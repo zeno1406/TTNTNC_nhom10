{
 "cells": [
  {
   "cell_type": "markdown",
   "metadata": {},
   "source": [
    "# Adversarial Search: Solving Tic-Tac-Toe with Minimax Search and Alpha-Beta Pruning"
   ]
  },
  {
   "cell_type": "markdown",
   "metadata": {},
   "source": [
    "## Introduction \n",
    "\n",
    "Multiplayer games can be implemented as:\n",
    "1. Nondeterministic actions: The opponent is seen as part of an environment with nondeterministic actions. Non-determinism is the result of the unknown opponent's moves. \n",
    "2. __Optimal Decisions:__ Minimax search (search complete game tree) and alpha-beta pruning.\n",
    "3. Heuristic Alpha-Beta Tree Search: Cut off tree search and use heuristic to estimate state value. \n",
    "4. Monte Carlo Tree search: Simulate playouts to estimate state value. \n",
    "\n",
    "Here we will implement search for Tic-Tac-Toe (see [rules](https://en.wikipedia.org/wiki/Tic-tac-toe)). The game is a __zero-sum game__: Win by x results in +1, win by o in -1 and a tie has a value of 0. Max plays x and tries to maximize the outcome while Min plays o and tries to minimize the outcome.   \n",
    "\n",
    "We will implement\n",
    "* __minimax search,__\n",
    "* __minimax search with alpha-beta pruning,__ and\n",
    "* __move ordering__. \n",
    "\n",
    "The search time (number if nodes explored) could be further improved by \n",
    "* __heuristic alpha-beta tree search__ (cut off search and use heuristic evaluation function to approximate utility), \n",
    "* __forward pruning__ (prune moves that appear poor), and\n",
    "* __table lookups__ (for openings and end game).\n",
    "\n",
    "The algorithms search the game tree and we could return a conditional plan (or partial plan if cut offs are used), but the implementation here only identifies and returns the optimal next move."
   ]
  },
  {
   "cell_type": "markdown",
   "metadata": {},
   "source": [
    "The code for the basic functions used for search are implemented in [tictactoe.py](tictactoe.py)."
   ]
  },
  {
   "cell_type": "code",
   "execution_count": 1,
   "metadata": {},
   "outputs": [],
   "source": [
    "from tictactoe import empty_board, actions, result, terminal, utility, other, show_board\n",
    "from tictactoe import random_player, play "
   ]
  },
  {
   "cell_type": "markdown",
   "metadata": {},
   "source": [
    "# Recursive DFS algorithm for Minimax Search\n",
    "\n",
    "See AIMA page 150. "
   ]
  },
  {
   "cell_type": "markdown",
   "metadata": {},
   "source": [
    "Note that the minimax search algorithm is very similar to AND-OR search where max does OR and min is represented by AND nodes."
   ]
  },
  {
   "cell_type": "code",
   "execution_count": 2,
   "metadata": {},
   "outputs": [],
   "source": [
    "import math\n",
    "\n",
    "# global variables\n",
    "DEBUG = 1 # 1 ... count nodes, 2 ... debug each node\n",
    "COUNT = 0\n",
    "\n",
    "def minimax_search(board, player = 'x'):\n",
    "    \"\"\"start the search.\"\"\"\n",
    "    global DEBUG, COUNT\n",
    "    COUNT = 0\n",
    "    \n",
    "    value, move = max_value(board, player)\n",
    "    \n",
    "    if DEBUG >= 1: print(f\"Number of nodes searched: {COUNT}\") \n",
    " \n",
    "    return { \"move\": move, \"value\": value}\n",
    "\n",
    "def max_value(state, player):\n",
    "    \"\"\"player's best move.\"\"\"\n",
    "    global DEBUG, COUNT\n",
    "    COUNT += 1\n",
    "    \n",
    "    # return utility of state if it is a terminal state\n",
    "    v = utility(state, player)\n",
    "    if DEBUG >= 2: print(\"max in: \" + str(state) + str([v]) ) \n",
    "    if v is not None: return v, None\n",
    "        \n",
    "    v, move = -math.inf, None\n",
    "\n",
    "    # check all possible actions in the state, return move with the largest value\n",
    "    for a in actions(state):\n",
    "        v2, a2 = min_value(result(state, player, a), player)\n",
    "        if v2 > v:\n",
    "            v, move = v2, a\n",
    "    \n",
    "    if DEBUG >= 2: print(\"max out: \" + str(state) + str([v, move]) ) \n",
    "    return v, move\n",
    "\n",
    "def min_value(state, player):\n",
    "    \"\"\"opponent's best response.\"\"\"\n",
    "    global DEBUG, COUNT\n",
    "    COUNT += 1\n",
    "    \n",
    "    # return utility of state if it is a terminal state\n",
    "    v = utility(state, player)\n",
    "    if DEBUG >= 2: print(\"min in: \" + str(state) + str([v]) ) \n",
    "    if v is not None: return v, None\n",
    "    \n",
    "    v, move = +math.inf, None\n",
    "\n",
    "    # check all possible actions in the state, return move with the smallest value\n",
    "    for a in actions(state):\n",
    "        v2, a2 = max_value(result(state, other(player), a), player)\n",
    "        if v2 < v:\n",
    "            v, move = v2, a\n",
    "    \n",
    "    if DEBUG >= 2: print(\"min out: \" + str(state) + str([v, move]) ) \n",
    "    return v, move"
   ]
  },
  {
   "cell_type": "markdown",
   "metadata": {},
   "source": [
    "## Some Tests\n",
    "\n",
    "### x is about to win (choose 8)"
   ]
  },
  {
   "cell_type": "code",
   "execution_count": 3,
   "metadata": {},
   "outputs": [
    {
     "name": "stdout",
     "output_type": "stream",
     "text": [
      "Board:\n"
     ]
    },
    {
     "data": {
      "image/png": "[encoded data removed]",
      "text/plain": [
       "<Figure size 192x192 with 1 Axes>"
      ]
     },
     "metadata": {},
     "output_type": "display_data"
    },
    {
     "name": "stdout",
     "output_type": "stream",
     "text": [
      "\n",
      "Number of nodes searched: 190\n"
     ]
    },
    {
     "data": {
      "text/plain": [
       "{'move': 2, 'value': 1}"
      ]
     },
     "metadata": {},
     "output_type": "display_data"
    },
    {
     "name": "stdout",
     "output_type": "stream",
     "text": [
      "CPU times: user 14.1 ms, sys: 1.99 ms, total: 16.1 ms\n",
      "Wall time: 5.34 ms\n"
     ]
    }
   ],
   "source": [
    "board = empty_board() \n",
    "board[0] = 'x'\n",
    "board[1] = 'o'\n",
    "board[3] = 'o'\n",
    "board[4] = 'x'\n",
    "\n",
    "print(\"Board:\")\n",
    "show_board(board)\n",
    "\n",
    "print()\n",
    "%time display(minimax_search(board))"
   ]
  },
  {
   "cell_type": "markdown",
   "metadata": {},
   "source": [
    "**Note:** DFS does not pick the the shortest path to a win! Discounting the utility can help.\n",
    "\n",
    "### x can draw if it chooses 7"
   ]
  },
  {
   "cell_type": "code",
   "execution_count": 4,
   "metadata": {},
   "outputs": [
    {
     "name": "stdout",
     "output_type": "stream",
     "text": [
      "Board:\n"
     ]
    },
    {
     "data": {
      "image/png": "[encoded data removed]",
      "text/plain": [
       "<Figure size 192x192 with 1 Axes>"
      ]
     },
     "metadata": {},
     "output_type": "display_data"
    },
    {
     "name": "stdout",
     "output_type": "stream",
     "text": [
      "\n",
      "Number of nodes searched: 206\n"
     ]
    },
    {
     "data": {
      "text/plain": [
       "{'move': 7, 'value': 0}"
      ]
     },
     "metadata": {},
     "output_type": "display_data"
    },
    {
     "name": "stdout",
     "output_type": "stream",
     "text": [
      "CPU times: user 13.3 ms, sys: 5.27 ms, total: 18.6 ms\n",
      "Wall time: 6.14 ms\n"
     ]
    }
   ],
   "source": [
    "board = empty_board() \n",
    "board[0] = 'x'\n",
    "board[1] = 'o'\n",
    "board[2] = 'x'\n",
    "board[4] = 'o'\n",
    "\n",
    "print(\"Board:\")\n",
    "show_board(board)\n",
    "\n",
    "print()\n",
    "%time display(minimax_search(board))"
   ]
  },
  {
   "cell_type": "markdown",
   "metadata": {},
   "source": [
    "### o is about to win no matter what x does\n"
   ]
  },
  {
   "cell_type": "code",
   "execution_count": 5,
   "metadata": {},
   "outputs": [
    {
     "name": "stdout",
     "output_type": "stream",
     "text": [
      "Board:\n"
     ]
    },
    {
     "data": {
      "image/png": "[encoded data removed]",
      "text/plain": [
       "<Figure size 192x192 with 1 Axes>"
      ]
     },
     "metadata": {},
     "output_type": "display_data"
    },
    {
     "name": "stdout",
     "output_type": "stream",
     "text": [
      "\n",
      "Number of nodes searched: 33\n"
     ]
    },
    {
     "data": {
      "text/plain": [
       "{'move': 2, 'value': -1}"
      ]
     },
     "metadata": {},
     "output_type": "display_data"
    },
    {
     "name": "stdout",
     "output_type": "stream",
     "text": [
      "CPU times: user 1.88 ms, sys: 6.02 ms, total: 7.9 ms\n",
      "Wall time: 2.57 ms\n"
     ]
    }
   ],
   "source": [
    "board = empty_board() \n",
    "board[0] = 'o'\n",
    "board[1] = 'o'\n",
    "board[3] = 'o'\n",
    "board[4] = 'x'\n",
    "board[8] = 'x'\n",
    "\n",
    "print(\"Board:\")\n",
    "show_board(board)\n",
    "\n",
    "print()\n",
    "%time display(minimax_search(board))"
   ]
  },
  {
   "cell_type": "markdown",
   "metadata": {},
   "source": [
    "### Empty board"
   ]
  },
  {
   "cell_type": "code",
   "execution_count": 6,
   "metadata": {
    "tags": []
   },
   "outputs": [
    {
     "name": "stdout",
     "output_type": "stream",
     "text": [
      "Board:\n"
     ]
    },
    {
     "data": {
      "image/png": "[encoded data removed]",
      "text/plain": [
       "<Figure size 192x192 with 1 Axes>"
      ]
     },
     "metadata": {},
     "output_type": "display_data"
    },
    {
     "name": "stdout",
     "output_type": "stream",
     "text": [
      "\n",
      "Number of nodes searched: 549946\n"
     ]
    },
    {
     "data": {
      "text/plain": [
       "{'move': 0, 'value': 0}"
      ]
     },
     "metadata": {},
     "output_type": "display_data"
    },
    {
     "name": "stdout",
     "output_type": "stream",
     "text": [
      "CPU times: user 13.1 s, sys: 165 ms, total: 13.3 s\n",
      "Wall time: 13 s\n"
     ]
    }
   ],
   "source": [
    "board = empty_board() \n",
    "\n",
    "print(\"Board:\")\n",
    "show_board(board)\n",
    "\n",
    "\n",
    "print()\n",
    "%time display(minimax_search(board))"
   ]
  },
  {
   "cell_type": "markdown",
   "metadata": {},
   "source": [
    "__Note:__ Starting with an empty board searched the complete game tree and takes a while. The number of nodes above is the actual size of the complete game tree. A table with know 'openings' (e.g., place x in a corner, o chooses the center, etc.) would be helpful to speed things up."
   ]
  },
  {
   "cell_type": "markdown",
   "metadata": {},
   "source": [
    "# Recursive DFS algorithm for Minimax Search with Alpha-Beta Pruning\n",
    "\n",
    "See AIMA page 154. \n",
    "\n",
    "Adds alpha-beta pruning to minimax search. Alpha and beta are used to maintain bounds on the minimax value of a node in the form `[alpha, beta]`. alpha means that the value is at least that high and beta means that the actual value is at most that high. Subtrees below a node that are worse than the currently known bound do not need to be further explored and can be pruned. Max uses alpha and Min uses beta for pruning.\n",
    "\n",
    "The implementation is for player 'x' returns a the optimal next move."
   ]
  },
  {
   "cell_type": "code",
   "execution_count": 7,
   "metadata": {},
   "outputs": [],
   "source": [
    "# global variables\n",
    "DEBUG = 1 # 1 ... count nodes, 2 ... debug each node\n",
    "COUNT = 0\n",
    "\n",
    "def alpha_beta_search(board, player = 'x'):\n",
    "    \"\"\"start the search.\"\"\"\n",
    "    global DEBUG, COUNT\n",
    "    COUNT = 0\n",
    "    \n",
    "    value, move = max_value_ab(board, player, -math.inf, +math.inf)\n",
    "    \n",
    "    if DEBUG >= 1: print(f\"Number of nodes searched: {COUNT}\") \n",
    "    \n",
    "    return { \"move\": move, \"value\": value }\n",
    "\n",
    "def max_value_ab(state, player, alpha, beta):\n",
    "    \"\"\"player's best move.\"\"\"\n",
    "    global DEBUG, COUNT\n",
    "    COUNT += 1\n",
    "       \n",
    "    # return utility of state is a terminal state\n",
    "    v = utility(state, player)\n",
    "    if DEBUG >= 2: print(f\"max: {state} [alpha,beta]=[{alpha},{beta}] v={v}\")\n",
    "    if v is not None: \n",
    "        if DEBUG >= 2: print(f\"     found terminal state. backtracking.\")\n",
    "        return v, None\n",
    "        \n",
    "    v, move = -math.inf, None\n",
    "\n",
    "    # check all possible actions in the state, update alpha and return move with the largest value\n",
    "    for a in actions(state):\n",
    "        v2, a2 = min_value_ab(result(state, player, a), player, alpha, beta)\n",
    "        if DEBUG >= 2: print(f\"max: {state} (backtracked) [alpha,beta]=[{alpha},{beta}] v={v2}\")\n",
    "        \n",
    "        if v2 > v:\n",
    "            v, move = v2, a\n",
    "            alpha = max(alpha, v)\n",
    "        if v >= beta:\n",
    "            if DEBUG >= 2: print(f\"     v>=beta ({v}>={beta}): pruning remaining subtree (actions). backtracking.\")\n",
    "            return v, move\n",
    "    \n",
    "    return v, move\n",
    "\n",
    "def min_value_ab(state, player, alpha, beta):\n",
    "    \"\"\"opponent's best response.\"\"\"\n",
    "    global DEBUG, COUNT\n",
    "    COUNT += 1\n",
    "    \n",
    "    # return utility of state is a terminal state\n",
    "    v = utility(state, player)\n",
    "    if DEBUG >= 2: print(f\"min: {state} [alpha,beta]=[{alpha},{beta}] v={v}\")\n",
    "    if v is not None: \n",
    "        if DEBUG >= 2: print(f\"     found terminal state. backtacking.\")\n",
    "        return v, None\n",
    "    \n",
    "    v, move = +math.inf, None\n",
    "\n",
    "    # check all possible actions in the state, update beta and return move with the smallest value\n",
    "    for a in actions(state):\n",
    "        v2, a2 = max_value_ab(result(state, other(player), a), player, alpha, beta)\n",
    "        if DEBUG >= 2: print(f\"min: {state} (backtracked) [alpha,beta]=[{alpha},{beta}] v={v2}\")\n",
    "        \n",
    "        if v2 < v:\n",
    "            v, move = v2, a\n",
    "            beta = min(beta, v)\n",
    "        if v <= alpha: \n",
    "            if DEBUG >= 2: print(f\"     v<=alpha ({v}<={alpha}): pruning remaining subtree (actions). backtracking.\")\n",
    "            return v, move\n",
    "    \n",
    "    return v, move"
   ]
  },
  {
   "cell_type": "markdown",
   "metadata": {},
   "source": [
    "## Some Tests\n",
    "\n",
    "### x is about to win (play 8)"
   ]
  },
  {
   "cell_type": "code",
   "execution_count": 8,
   "metadata": {},
   "outputs": [
    {
     "name": "stdout",
     "output_type": "stream",
     "text": [
      "Board:\n"
     ]
    },
    {
     "data": {
      "image/png": "[encoded data removed]",
      "text/plain": [
       "<Figure size 192x192 with 1 Axes>"
      ]
     },
     "metadata": {},
     "output_type": "display_data"
    },
    {
     "name": "stdout",
     "output_type": "stream",
     "text": [
      "\n",
      "max: ['x', 'o', ' ', 'o', 'x', ' ', ' ', ' ', ' '] [alpha,beta]=[-inf,inf] v=None\n",
      "min: ['x', 'o', 'x', 'o', 'x', ' ', ' ', ' ', ' '] [alpha,beta]=[-inf,inf] v=None\n",
      "max: ['x', 'o', 'x', 'o', 'x', 'o', ' ', ' ', ' '] [alpha,beta]=[-inf,inf] v=None\n",
      "min: ['x', 'o', 'x', 'o', 'x', 'o', 'x', ' ', ' '] [alpha,beta]=[-inf,inf] v=1\n",
      "     found terminal state. backtacking.\n",
      "max: ['x', 'o', 'x', 'o', 'x', 'o', ' ', ' ', ' '] (backtracked) [alpha,beta]=[-inf,inf] v=1\n",
      "min: ['x', 'o', 'x', 'o', 'x', 'o', ' ', 'x', ' '] [alpha,beta]=[1,inf] v=None\n",
      "max: ['x', 'o', 'x', 'o', 'x', 'o', 'o', 'x', ' '] [alpha,beta]=[1,inf] v=None\n",
      "min: ['x', 'o', 'x', 'o', 'x', 'o', 'o', 'x', 'x'] [alpha,beta]=[1,inf] v=1\n",
      "     found terminal state. backtacking.\n",
      "max: ['x', 'o', 'x', 'o', 'x', 'o', 'o', 'x', ' '] (backtracked) [alpha,beta]=[1,inf] v=1\n",
      "min: ['x', 'o', 'x', 'o', 'x', 'o', ' ', 'x', ' '] (backtracked) [alpha,beta]=[1,inf] v=1\n",
      "     v<=alpha (1<=1): pruning remaining subtree (actions). backtracking.\n",
      "max: ['x', 'o', 'x', 'o', 'x', 'o', ' ', ' ', ' '] (backtracked) [alpha,beta]=[1,inf] v=1\n",
      "min: ['x', 'o', 'x', 'o', 'x', 'o', ' ', ' ', 'x'] [alpha,beta]=[1,inf] v=1\n",
      "     found terminal state. backtacking.\n",
      "max: ['x', 'o', 'x', 'o', 'x', 'o', ' ', ' ', ' '] (backtracked) [alpha,beta]=[1,inf] v=1\n",
      "min: ['x', 'o', 'x', 'o', 'x', ' ', ' ', ' ', ' '] (backtracked) [alpha,beta]=[-inf,inf] v=1\n",
      "max: ['x', 'o', 'x', 'o', 'x', ' ', 'o', ' ', ' '] [alpha,beta]=[-inf,1] v=None\n",
      "min: ['x', 'o', 'x', 'o', 'x', 'x', 'o', ' ', ' '] [alpha,beta]=[-inf,1] v=None\n",
      "max: ['x', 'o', 'x', 'o', 'x', 'x', 'o', 'o', ' '] [alpha,beta]=[-inf,1] v=None\n",
      "min: ['x', 'o', 'x', 'o', 'x', 'x', 'o', 'o', 'x'] [alpha,beta]=[-inf,1] v=1\n",
      "     found terminal state. backtacking.\n",
      "max: ['x', 'o', 'x', 'o', 'x', 'x', 'o', 'o', ' '] (backtracked) [alpha,beta]=[-inf,1] v=1\n",
      "     v>=beta (1>=1): pruning remaining subtree (actions). backtracking.\n",
      "min: ['x', 'o', 'x', 'o', 'x', 'x', 'o', ' ', ' '] (backtracked) [alpha,beta]=[-inf,1] v=1\n",
      "max: ['x', 'o', 'x', 'o', 'x', 'x', 'o', ' ', 'o'] [alpha,beta]=[-inf,1] v=None\n",
      "min: ['x', 'o', 'x', 'o', 'x', 'x', 'o', 'x', 'o'] [alpha,beta]=[-inf,1] v=0\n",
      "     found terminal state. backtacking.\n",
      "max: ['x', 'o', 'x', 'o', 'x', 'x', 'o', ' ', 'o'] (backtracked) [alpha,beta]=[-inf,1] v=0\n",
      "min: ['x', 'o', 'x', 'o', 'x', 'x', 'o', ' ', ' '] (backtracked) [alpha,beta]=[-inf,1] v=0\n",
      "max: ['x', 'o', 'x', 'o', 'x', ' ', 'o', ' ', ' '] (backtracked) [alpha,beta]=[-inf,1] v=0\n",
      "min: ['x', 'o', 'x', 'o', 'x', ' ', 'o', 'x', ' '] [alpha,beta]=[0,1] v=None\n",
      "max: ['x', 'o', 'x', 'o', 'x', 'o', 'o', 'x', ' '] [alpha,beta]=[0,1] v=None\n",
      "min: ['x', 'o', 'x', 'o', 'x', 'o', 'o', 'x', 'x'] [alpha,beta]=[0,1] v=1\n",
      "     found terminal state. backtacking.\n",
      "max: ['x', 'o', 'x', 'o', 'x', 'o', 'o', 'x', ' '] (backtracked) [alpha,beta]=[0,1] v=1\n",
      "     v>=beta (1>=1): pruning remaining subtree (actions). backtracking.\n",
      "min: ['x', 'o', 'x', 'o', 'x', ' ', 'o', 'x', ' '] (backtracked) [alpha,beta]=[0,1] v=1\n",
      "max: ['x', 'o', 'x', 'o', 'x', ' ', 'o', 'x', 'o'] [alpha,beta]=[0,1] v=None\n",
      "min: ['x', 'o', 'x', 'o', 'x', 'x', 'o', 'x', 'o'] [alpha,beta]=[0,1] v=0\n",
      "     found terminal state. backtacking.\n",
      "max: ['x', 'o', 'x', 'o', 'x', ' ', 'o', 'x', 'o'] (backtracked) [alpha,beta]=[0,1] v=0\n",
      "min: ['x', 'o', 'x', 'o', 'x', ' ', 'o', 'x', ' '] (backtracked) [alpha,beta]=[0,1] v=0\n",
      "     v<=alpha (0<=0): pruning remaining subtree (actions). backtracking.\n",
      "max: ['x', 'o', 'x', 'o', 'x', ' ', 'o', ' ', ' '] (backtracked) [alpha,beta]=[0,1] v=0\n",
      "min: ['x', 'o', 'x', 'o', 'x', ' ', 'o', ' ', 'x'] [alpha,beta]=[0,1] v=1\n",
      "     found terminal state. backtacking.\n",
      "max: ['x', 'o', 'x', 'o', 'x', ' ', 'o', ' ', ' '] (backtracked) [alpha,beta]=[0,1] v=1\n",
      "     v>=beta (1>=1): pruning remaining subtree (actions). backtracking.\n",
      "min: ['x', 'o', 'x', 'o', 'x', ' ', ' ', ' ', ' '] (backtracked) [alpha,beta]=[-inf,1] v=1\n",
      "max: ['x', 'o', 'x', 'o', 'x', ' ', ' ', 'o', ' '] [alpha,beta]=[-inf,1] v=None\n",
      "min: ['x', 'o', 'x', 'o', 'x', 'x', ' ', 'o', ' '] [alpha,beta]=[-inf,1] v=None\n",
      "max: ['x', 'o', 'x', 'o', 'x', 'x', 'o', 'o', ' '] [alpha,beta]=[-inf,1] v=None\n",
      "min: ['x', 'o', 'x', 'o', 'x', 'x', 'o', 'o', 'x'] [alpha,beta]=[-inf,1] v=1\n",
      "     found terminal state. backtacking.\n",
      "max: ['x', 'o', 'x', 'o', 'x', 'x', 'o', 'o', ' '] (backtracked) [alpha,beta]=[-inf,1] v=1\n",
      "     v>=beta (1>=1): pruning remaining subtree (actions). backtracking.\n",
      "min: ['x', 'o', 'x', 'o', 'x', 'x', ' ', 'o', ' '] (backtracked) [alpha,beta]=[-inf,1] v=1\n",
      "max: ['x', 'o', 'x', 'o', 'x', 'x', ' ', 'o', 'o'] [alpha,beta]=[-inf,1] v=None\n",
      "min: ['x', 'o', 'x', 'o', 'x', 'x', 'x', 'o', 'o'] [alpha,beta]=[-inf,1] v=1\n",
      "     found terminal state. backtacking.\n",
      "max: ['x', 'o', 'x', 'o', 'x', 'x', ' ', 'o', 'o'] (backtracked) [alpha,beta]=[-inf,1] v=1\n",
      "     v>=beta (1>=1): pruning remaining subtree (actions). backtracking.\n",
      "min: ['x', 'o', 'x', 'o', 'x', 'x', ' ', 'o', ' '] (backtracked) [alpha,beta]=[-inf,1] v=1\n",
      "max: ['x', 'o', 'x', 'o', 'x', ' ', ' ', 'o', ' '] (backtracked) [alpha,beta]=[-inf,1] v=1\n",
      "     v>=beta (1>=1): pruning remaining subtree (actions). backtracking.\n",
      "min: ['x', 'o', 'x', 'o', 'x', ' ', ' ', ' ', ' '] (backtracked) [alpha,beta]=[-inf,1] v=1\n",
      "max: ['x', 'o', 'x', 'o', 'x', ' ', ' ', ' ', 'o'] [alpha,beta]=[-inf,1] v=None\n",
      "min: ['x', 'o', 'x', 'o', 'x', 'x', ' ', ' ', 'o'] [alpha,beta]=[-inf,1] v=None\n",
      "max: ['x', 'o', 'x', 'o', 'x', 'x', 'o', ' ', 'o'] [alpha,beta]=[-inf,1] v=None\n",
      "min: ['x', 'o', 'x', 'o', 'x', 'x', 'o', 'x', 'o'] [alpha,beta]=[-inf,1] v=0\n",
      "     found terminal state. backtacking.\n",
      "max: ['x', 'o', 'x', 'o', 'x', 'x', 'o', ' ', 'o'] (backtracked) [alpha,beta]=[-inf,1] v=0\n",
      "min: ['x', 'o', 'x', 'o', 'x', 'x', ' ', ' ', 'o'] (backtracked) [alpha,beta]=[-inf,1] v=0\n",
      "max: ['x', 'o', 'x', 'o', 'x', 'x', ' ', 'o', 'o'] [alpha,beta]=[-inf,0] v=None\n",
      "min: ['x', 'o', 'x', 'o', 'x', 'x', 'x', 'o', 'o'] [alpha,beta]=[-inf,0] v=1\n",
      "     found terminal state. backtacking.\n",
      "max: ['x', 'o', 'x', 'o', 'x', 'x', ' ', 'o', 'o'] (backtracked) [alpha,beta]=[-inf,0] v=1\n",
      "     v>=beta (1>=0): pruning remaining subtree (actions). backtracking.\n",
      "min: ['x', 'o', 'x', 'o', 'x', 'x', ' ', ' ', 'o'] (backtracked) [alpha,beta]=[-inf,0] v=1\n",
      "max: ['x', 'o', 'x', 'o', 'x', ' ', ' ', ' ', 'o'] (backtracked) [alpha,beta]=[-inf,1] v=0\n",
      "min: ['x', 'o', 'x', 'o', 'x', ' ', 'x', ' ', 'o'] [alpha,beta]=[0,1] v=1\n",
      "     found terminal state. backtacking.\n",
      "max: ['x', 'o', 'x', 'o', 'x', ' ', ' ', ' ', 'o'] (backtracked) [alpha,beta]=[0,1] v=1\n",
      "     v>=beta (1>=1): pruning remaining subtree (actions). backtracking.\n",
      "min: ['x', 'o', 'x', 'o', 'x', ' ', ' ', ' ', ' '] (backtracked) [alpha,beta]=[-inf,1] v=1\n",
      "max: ['x', 'o', ' ', 'o', 'x', ' ', ' ', ' ', ' '] (backtracked) [alpha,beta]=[-inf,inf] v=1\n",
      "min: ['x', 'o', ' ', 'o', 'x', 'x', ' ', ' ', ' '] [alpha,beta]=[1,inf] v=None\n",
      "max: ['x', 'o', 'o', 'o', 'x', 'x', ' ', ' ', ' '] [alpha,beta]=[1,inf] v=None\n",
      "min: ['x', 'o', 'o', 'o', 'x', 'x', 'x', ' ', ' '] [alpha,beta]=[1,inf] v=None\n",
      "max: ['x', 'o', 'o', 'o', 'x', 'x', 'x', 'o', ' '] [alpha,beta]=[1,inf] v=None\n",
      "min: ['x', 'o', 'o', 'o', 'x', 'x', 'x', 'o', 'x'] [alpha,beta]=[1,inf] v=1\n",
      "     found terminal state. backtacking.\n",
      "max: ['x', 'o', 'o', 'o', 'x', 'x', 'x', 'o', ' '] (backtracked) [alpha,beta]=[1,inf] v=1\n",
      "min: ['x', 'o', 'o', 'o', 'x', 'x', 'x', ' ', ' '] (backtracked) [alpha,beta]=[1,inf] v=1\n",
      "     v<=alpha (1<=1): pruning remaining subtree (actions). backtracking.\n",
      "max: ['x', 'o', 'o', 'o', 'x', 'x', ' ', ' ', ' '] (backtracked) [alpha,beta]=[1,inf] v=1\n",
      "min: ['x', 'o', 'o', 'o', 'x', 'x', ' ', 'x', ' '] [alpha,beta]=[1,inf] v=None\n",
      "max: ['x', 'o', 'o', 'o', 'x', 'x', 'o', 'x', ' '] [alpha,beta]=[1,inf] v=None\n",
      "min: ['x', 'o', 'o', 'o', 'x', 'x', 'o', 'x', 'x'] [alpha,beta]=[1,inf] v=1\n",
      "     found terminal state. backtacking.\n",
      "max: ['x', 'o', 'o', 'o', 'x', 'x', 'o', 'x', ' '] (backtracked) [alpha,beta]=[1,inf] v=1\n",
      "min: ['x', 'o', 'o', 'o', 'x', 'x', ' ', 'x', ' '] (backtracked) [alpha,beta]=[1,inf] v=1\n",
      "     v<=alpha (1<=1): pruning remaining subtree (actions). backtracking.\n",
      "max: ['x', 'o', 'o', 'o', 'x', 'x', ' ', ' ', ' '] (backtracked) [alpha,beta]=[1,inf] v=1\n",
      "min: ['x', 'o', 'o', 'o', 'x', 'x', ' ', ' ', 'x'] [alpha,beta]=[1,inf] v=1\n",
      "     found terminal state. backtacking.\n",
      "max: ['x', 'o', 'o', 'o', 'x', 'x', ' ', ' ', ' '] (backtracked) [alpha,beta]=[1,inf] v=1\n",
      "min: ['x', 'o', ' ', 'o', 'x', 'x', ' ', ' ', ' '] (backtracked) [alpha,beta]=[1,inf] v=1\n",
      "     v<=alpha (1<=1): pruning remaining subtree (actions). backtracking.\n",
      "max: ['x', 'o', ' ', 'o', 'x', ' ', ' ', ' ', ' '] (backtracked) [alpha,beta]=[1,inf] v=1\n",
      "min: ['x', 'o', ' ', 'o', 'x', ' ', 'x', ' ', ' '] [alpha,beta]=[1,inf] v=None\n",
      "max: ['x', 'o', 'o', 'o', 'x', ' ', 'x', ' ', ' '] [alpha,beta]=[1,inf] v=None\n",
      "min: ['x', 'o', 'o', 'o', 'x', 'x', 'x', ' ', ' '] [alpha,beta]=[1,inf] v=None\n",
      "max: ['x', 'o', 'o', 'o', 'x', 'x', 'x', 'o', ' '] [alpha,beta]=[1,inf] v=None\n",
      "min: ['x', 'o', 'o', 'o', 'x', 'x', 'x', 'o', 'x'] [alpha,beta]=[1,inf] v=1\n",
      "     found terminal state. backtacking.\n",
      "max: ['x', 'o', 'o', 'o', 'x', 'x', 'x', 'o', ' '] (backtracked) [alpha,beta]=[1,inf] v=1\n",
      "min: ['x', 'o', 'o', 'o', 'x', 'x', 'x', ' ', ' '] (backtracked) [alpha,beta]=[1,inf] v=1\n",
      "     v<=alpha (1<=1): pruning remaining subtree (actions). backtracking.\n",
      "max: ['x', 'o', 'o', 'o', 'x', ' ', 'x', ' ', ' '] (backtracked) [alpha,beta]=[1,inf] v=1\n",
      "min: ['x', 'o', 'o', 'o', 'x', ' ', 'x', 'x', ' '] [alpha,beta]=[1,inf] v=None\n",
      "max: ['x', 'o', 'o', 'o', 'x', 'o', 'x', 'x', ' '] [alpha,beta]=[1,inf] v=None\n",
      "min: ['x', 'o', 'o', 'o', 'x', 'o', 'x', 'x', 'x'] [alpha,beta]=[1,inf] v=1\n",
      "     found terminal state. backtacking.\n",
      "max: ['x', 'o', 'o', 'o', 'x', 'o', 'x', 'x', ' '] (backtracked) [alpha,beta]=[1,inf] v=1\n",
      "min: ['x', 'o', 'o', 'o', 'x', ' ', 'x', 'x', ' '] (backtracked) [alpha,beta]=[1,inf] v=1\n",
      "     v<=alpha (1<=1): pruning remaining subtree (actions). backtracking.\n",
      "max: ['x', 'o', 'o', 'o', 'x', ' ', 'x', ' ', ' '] (backtracked) [alpha,beta]=[1,inf] v=1\n",
      "min: ['x', 'o', 'o', 'o', 'x', ' ', 'x', ' ', 'x'] [alpha,beta]=[1,inf] v=1\n",
      "     found terminal state. backtacking.\n",
      "max: ['x', 'o', 'o', 'o', 'x', ' ', 'x', ' ', ' '] (backtracked) [alpha,beta]=[1,inf] v=1\n",
      "min: ['x', 'o', ' ', 'o', 'x', ' ', 'x', ' ', ' '] (backtracked) [alpha,beta]=[1,inf] v=1\n",
      "     v<=alpha (1<=1): pruning remaining subtree (actions). backtracking.\n",
      "max: ['x', 'o', ' ', 'o', 'x', ' ', ' ', ' ', ' '] (backtracked) [alpha,beta]=[1,inf] v=1\n",
      "min: ['x', 'o', ' ', 'o', 'x', ' ', ' ', 'x', ' '] [alpha,beta]=[1,inf] v=None\n",
      "max: ['x', 'o', 'o', 'o', 'x', ' ', ' ', 'x', ' '] [alpha,beta]=[1,inf] v=None\n",
      "min: ['x', 'o', 'o', 'o', 'x', 'x', ' ', 'x', ' '] [alpha,beta]=[1,inf] v=None\n",
      "max: ['x', 'o', 'o', 'o', 'x', 'x', 'o', 'x', ' '] [alpha,beta]=[1,inf] v=None\n",
      "min: ['x', 'o', 'o', 'o', 'x', 'x', 'o', 'x', 'x'] [alpha,beta]=[1,inf] v=1\n",
      "     found terminal state. backtacking.\n",
      "max: ['x', 'o', 'o', 'o', 'x', 'x', 'o', 'x', ' '] (backtracked) [alpha,beta]=[1,inf] v=1\n",
      "min: ['x', 'o', 'o', 'o', 'x', 'x', ' ', 'x', ' '] (backtracked) [alpha,beta]=[1,inf] v=1\n",
      "     v<=alpha (1<=1): pruning remaining subtree (actions). backtracking.\n",
      "max: ['x', 'o', 'o', 'o', 'x', ' ', ' ', 'x', ' '] (backtracked) [alpha,beta]=[1,inf] v=1\n",
      "min: ['x', 'o', 'o', 'o', 'x', ' ', 'x', 'x', ' '] [alpha,beta]=[1,inf] v=None\n",
      "max: ['x', 'o', 'o', 'o', 'x', 'o', 'x', 'x', ' '] [alpha,beta]=[1,inf] v=None\n",
      "min: ['x', 'o', 'o', 'o', 'x', 'o', 'x', 'x', 'x'] [alpha,beta]=[1,inf] v=1\n",
      "     found terminal state. backtacking.\n",
      "max: ['x', 'o', 'o', 'o', 'x', 'o', 'x', 'x', ' '] (backtracked) [alpha,beta]=[1,inf] v=1\n",
      "min: ['x', 'o', 'o', 'o', 'x', ' ', 'x', 'x', ' '] (backtracked) [alpha,beta]=[1,inf] v=1\n",
      "     v<=alpha (1<=1): pruning remaining subtree (actions). backtracking.\n",
      "max: ['x', 'o', 'o', 'o', 'x', ' ', ' ', 'x', ' '] (backtracked) [alpha,beta]=[1,inf] v=1\n",
      "min: ['x', 'o', 'o', 'o', 'x', ' ', ' ', 'x', 'x'] [alpha,beta]=[1,inf] v=1\n",
      "     found terminal state. backtacking.\n",
      "max: ['x', 'o', 'o', 'o', 'x', ' ', ' ', 'x', ' '] (backtracked) [alpha,beta]=[1,inf] v=1\n",
      "min: ['x', 'o', ' ', 'o', 'x', ' ', ' ', 'x', ' '] (backtracked) [alpha,beta]=[1,inf] v=1\n",
      "     v<=alpha (1<=1): pruning remaining subtree (actions). backtracking.\n",
      "max: ['x', 'o', ' ', 'o', 'x', ' ', ' ', ' ', ' '] (backtracked) [alpha,beta]=[1,inf] v=1\n",
      "min: ['x', 'o', ' ', 'o', 'x', ' ', ' ', ' ', 'x'] [alpha,beta]=[1,inf] v=1\n",
      "     found terminal state. backtacking.\n",
      "max: ['x', 'o', ' ', 'o', 'x', ' ', ' ', ' ', ' '] (backtracked) [alpha,beta]=[1,inf] v=1\n",
      "Number of nodes searched: 61\n"
     ]
    },
    {
     "data": {
      "text/plain": [
       "{'move': 2, 'value': 1}"
      ]
     },
     "metadata": {},
     "output_type": "display_data"
    },
    {
     "name": "stdout",
     "output_type": "stream",
     "text": [
      "CPU times: user 7.28 ms, sys: 8.41 ms, total: 15.7 ms\n",
      "Wall time: 5.2 ms\n"
     ]
    }
   ],
   "source": [
    "DEBUG = 2 # show more debugging info\n",
    "\n",
    "board = empty_board() \n",
    "board[0] = 'x'\n",
    "board[1] = 'o'\n",
    "board[3] = 'o'\n",
    "board[4] = 'x'\n",
    "\n",
    "print(\"Board:\")\n",
    "show_board(board)\n",
    "\n",
    "print()\n",
    "%time display(alpha_beta_search(board))"
   ]
  },
  {
   "cell_type": "markdown",
   "metadata": {},
   "source": [
    "The code does not pick the the shortest path to a win! Discounting could help.\n",
    "\n",
    "### x can draw if it chooses 7"
   ]
  },
  {
   "cell_type": "code",
   "execution_count": 9,
   "metadata": {},
   "outputs": [
    {
     "name": "stdout",
     "output_type": "stream",
     "text": [
      "Board:\n"
     ]
    },
    {
     "data": {
      "image/png": "[encoded data removed]",
      "text/plain": [
       "<Figure size 192x192 with 1 Axes>"
      ]
     },
     "metadata": {},
     "output_type": "display_data"
    },
    {
     "name": "stdout",
     "output_type": "stream",
     "text": [
      "\n",
      "Number of nodes searched: 101\n"
     ]
    },
    {
     "data": {
      "text/plain": [
       "{'move': 7, 'value': 0}"
      ]
     },
     "metadata": {},
     "output_type": "display_data"
    },
    {
     "name": "stdout",
     "output_type": "stream",
     "text": [
      "CPU times: user 18.5 ms, sys: 0 ns, total: 18.5 ms\n",
      "Wall time: 6.11 ms\n"
     ]
    }
   ],
   "source": [
    "DEBUG = 1\n",
    "\n",
    "board = empty_board() \n",
    "board[0] = 'x'\n",
    "board[1] = 'o'\n",
    "board[2] = 'x'\n",
    "board[4] = 'o'\n",
    "\n",
    "print(\"Board:\")\n",
    "show_board(board)\n",
    "\n",
    "print()\n",
    "%time display(alpha_beta_search(board))"
   ]
  },
  {
   "cell_type": "markdown",
   "metadata": {},
   "source": [
    "### o is about to win no matter what x does\n"
   ]
  },
  {
   "cell_type": "code",
   "execution_count": 10,
   "metadata": {},
   "outputs": [
    {
     "name": "stdout",
     "output_type": "stream",
     "text": [
      "Board:\n"
     ]
    },
    {
     "data": {
      "image/png": "[encoded data removed]",
      "text/plain": [
       "<Figure size 192x192 with 1 Axes>"
      ]
     },
     "metadata": {},
     "output_type": "display_data"
    },
    {
     "name": "stdout",
     "output_type": "stream",
     "text": [
      "\n",
      "Number of nodes searched: 15\n"
     ]
    },
    {
     "data": {
      "text/plain": [
       "{'move': 2, 'value': -1}"
      ]
     },
     "metadata": {},
     "output_type": "display_data"
    },
    {
     "name": "stdout",
     "output_type": "stream",
     "text": [
      "CPU times: user 8.66 ms, sys: 1.28 ms, total: 9.94 ms\n",
      "Wall time: 3.27 ms\n"
     ]
    }
   ],
   "source": [
    "board = empty_board() \n",
    "board[0] = 'o'\n",
    "board[1] = 'o'\n",
    "board[3] = 'o'\n",
    "board[4] = 'x'\n",
    "board[8] = 'x'\n",
    "\n",
    "print(\"Board:\")\n",
    "show_board(board)\n",
    "\n",
    "print()\n",
    "%time display(alpha_beta_search(board))"
   ]
  },
  {
   "cell_type": "markdown",
   "metadata": {},
   "source": [
    "### Empty board: Only a draw an be guaranteed"
   ]
  },
  {
   "cell_type": "code",
   "execution_count": 11,
   "metadata": {},
   "outputs": [
    {
     "name": "stdout",
     "output_type": "stream",
     "text": [
      "Board:\n"
     ]
    },
    {
     "data": {
      "image/png": "[encoded data removed]",
      "text/plain": [
       "<Figure size 192x192 with 1 Axes>"
      ]
     },
     "metadata": {},
     "output_type": "display_data"
    },
    {
     "name": "stdout",
     "output_type": "stream",
     "text": [
      "\n",
      "Number of nodes searched: 18297\n"
     ]
    },
    {
     "data": {
      "text/plain": [
       "{'move': 0, 'value': 0}"
      ]
     },
     "metadata": {},
     "output_type": "display_data"
    },
    {
     "name": "stdout",
     "output_type": "stream",
     "text": [
      "CPU times: user 720 ms, sys: 188 ms, total: 908 ms\n",
      "Wall time: 660 ms\n"
     ]
    }
   ],
   "source": [
    "board = empty_board() \n",
    "\n",
    "print(\"Board:\")\n",
    "show_board(board)\n",
    "\n",
    "\n",
    "print()\n",
    "%time display(alpha_beta_search(board))"
   ]
  },
  {
   "cell_type": "markdown",
   "metadata": {},
   "source": [
    "**Note:** Alpha-Beta search expands fewer nodes and is **much faster** than minimax search. \n",
    "\n",
    "## Move ordering\n",
    "\n",
    "Smart move reordering can make alpha-beta pruning more effective. I think the center `[4]` and corners `[0, 2, 6, 8]` are good. I implement move reordering in the `actions()`."
   ]
  },
  {
   "cell_type": "code",
   "execution_count": 13,
   "metadata": {},
   "outputs": [
    {
     "data": {
      "image/png": "[encoded data removed]",
      "text/plain": [
       "<Figure size 192x192 with 1 Axes>"
      ]
     },
     "metadata": {},
     "output_type": "display_data"
    },
    {
     "data": {
      "text/plain": [
       "[4, 8, 6, 2, 0, 7, 5, 3, 1]"
      ]
     },
     "execution_count": 13,
     "metadata": {},
     "output_type": "execute_result"
    }
   ],
   "source": [
    "import numpy as np\n",
    "\n",
    "def actions(board):\n",
    "    \"\"\"return possible actions as a vector ot indices\"\"\"\n",
    "    actions = np.where(np.array(board) == ' ')[0].tolist()\n",
    "\n",
    "    priority = [1,0,1,\n",
    "                0,2,0,\n",
    "                1,0,1]\n",
    "    priority = [priority[i] for i in actions]\n",
    "    \n",
    "    actions =[a for _,a in sorted(zip(priority,actions), reverse=True)]\n",
    "    \n",
    "    return actions\n",
    "\n",
    "board = empty_board()   \n",
    "show_board(board)\n",
    "actions(board)"
   ]
  },
  {
   "cell_type": "markdown",
   "metadata": {},
   "source": [
    "### Empty board: Only a draw an be guaranteed"
   ]
  },
  {
   "cell_type": "code",
   "execution_count": 14,
   "metadata": {},
   "outputs": [
    {
     "name": "stdout",
     "output_type": "stream",
     "text": [
      "Board:\n"
     ]
    },
    {
     "data": {
      "image/png": "[encoded data removed]",
      "text/plain": [
       "<Figure size 192x192 with 1 Axes>"
      ]
     },
     "metadata": {},
     "output_type": "display_data"
    },
    {
     "name": "stdout",
     "output_type": "stream",
     "text": [
      "\n",
      "Number of nodes searched: 7275\n"
     ]
    },
    {
     "data": {
      "text/plain": [
       "{'move': 4, 'value': 0}"
      ]
     },
     "metadata": {},
     "output_type": "display_data"
    },
    {
     "name": "stdout",
     "output_type": "stream",
     "text": [
      "CPU times: user 259 ms, sys: 196 ms, total: 455 ms\n",
      "Wall time: 202 ms\n"
     ]
    }
   ],
   "source": [
    "board = empty_board() \n",
    "\n",
    "print(\"Board:\")\n",
    "show_board(board)\n",
    "\n",
    "\n",
    "print()\n",
    "%time display(alpha_beta_search(board))"
   ]
  },
  {
   "cell_type": "markdown",
   "metadata": {},
   "source": [
    "__Note:__ Compare to the number of nodes searched without move reordering (right above)."
   ]
  },
  {
   "cell_type": "markdown",
   "metadata": {},
   "source": [
    "## Experiments\n"
   ]
  },
  {
   "cell_type": "markdown",
   "metadata": {},
   "source": [
    "### Minimax with Alpha-Beta Pruning vs. Random"
   ]
  },
  {
   "cell_type": "code",
   "execution_count": 15,
   "metadata": {
    "tags": []
   },
   "outputs": [
    {
     "name": "stdout",
     "output_type": "stream",
     "text": [
      "alpha-beta vs. random:\n"
     ]
    },
    {
     "data": {
      "text/plain": [
       "{'x': 100, 'o': 0, 'd': 0}"
      ]
     },
     "metadata": {},
     "output_type": "display_data"
    },
    {
     "name": "stdout",
     "output_type": "stream",
     "text": [
      "CPU times: user 15.5 s, sys: 1.96 ms, total: 15.5 s\n",
      "Wall time: 15.5 s\n",
      "\n",
      "random vs. alpha-beta\n"
     ]
    },
    {
     "data": {
      "text/plain": [
       "{'x': 0, 'o': 84, 'd': 16}"
      ]
     },
     "metadata": {},
     "output_type": "display_data"
    },
    {
     "name": "stdout",
     "output_type": "stream",
     "text": [
      "CPU times: user 5.16 s, sys: 7.74 ms, total: 5.16 s\n",
      "Wall time: 5.17 s\n"
     ]
    }
   ],
   "source": [
    "DEBUG = 0\n",
    "\n",
    "def alpha_beta_player(board, player = 'x'):\n",
    "    return alpha_beta_search(board, player)[\"move\"]\n",
    "\n",
    "print(\"alpha-beta vs. random:\")\n",
    "%time display(play(alpha_beta_player, random_player))\n",
    "\n",
    "print()\n",
    "print(\"random vs. alpha-beta\")\n",
    "%time display(play(random_player, alpha_beta_player))"
   ]
  },
  {
   "cell_type": "markdown",
   "metadata": {},
   "source": [
    "**Note on runtime:** Compared to AND-OR Search, Minimax search is slower, because AND-OR Search terminates once it finds the first subtree that has only goal nodes, buy Minimax search traverses the whole tree (minus what is pruned if alpha-beta pruning is used). \n",
    "\n",
    "Also, I was lazy and recreate the search tree every time the agent is asked for a move. The agent could create the tree with the Minimax values once and then use it to decide on actions. A problem could be that the tree may be too large to store. "
   ]
  }
 ],
 "metadata": {
  "kernelspec": {
   "display_name": "Python 3 (ipykernel)",
   "language": "python",
   "name": "python3"
  },
  "language_info": {
   "codemirror_mode": {
    "name": "ipython",
    "version": 3
   },
   "file_extension": ".py",
   "mimetype": "text/x-python",
   "name": "python",
   "nbconvert_exporter": "python",
   "pygments_lexer": "ipython3",
   "version": "3.10.12"
  }
 },
 "nbformat": 4,
 "nbformat_minor": 4
}
