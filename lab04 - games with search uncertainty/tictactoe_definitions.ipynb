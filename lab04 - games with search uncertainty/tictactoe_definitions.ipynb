{
 "cells": [
  {
   "cell_type": "markdown",
   "metadata": {},
   "source": [
    "# Defining the Game: Tic-Tac-Toe"
   ]
  },
  {
   "cell_type": "markdown",
   "metadata": {},
   "source": [
    "## The Search Problem\n",
    "\n",
    "A general search problem is defined in the following way:\n",
    "\n",
    "* **Initial State:** Empty $3 \\times 3$ board. It is the move for $x$.\n",
    "* **Actions:** Place your symbol on any empty square.\n",
    "* **Transition function:** You symbol is placed on the board according to the action. The opponent\n",
    "    places her symbol. From our viewpoint this makes the environment non-deterministic.\n",
    "* **Goal state:** A win (three symbols in a row, column or diagonal). \n",
    "* **Path cost:** number of moves.\n",
    "  \n",
    "Since Tic-tac-toe is a game, we will use the more specializes components (see Chapter 5):\n",
    "* `Actions(s)` Legal moves in state s.\n",
    "* `Result(s, a)` Transition model.\n",
    "* `Terminal(s)` Test for terminal states.\n",
    "* `Utility(s)` Utility for player Max for terminal states.\n",
    "\n",
    "**Notes:**\n",
    "\n",
    "* To define the goal state we will use a test for a **terminal state** (game is over) and a **utility function** (win or loose). \n",
    "* We will use DFS which is not optimal. So will probably not find the solution with the lowest path cost, i.e., win with the smallest number of moves. Therefore, we drop the path cost all together."
   ]
  },
  {
   "cell_type": "markdown",
   "metadata": {},
   "source": [
    "## Problem Size\n",
    "\n",
    "### State Space Estimates\n",
    "\n",
    "Each state is a possible board. Each of the 9 squares can have 3 values (empty, x and o), but some boards are impossible (where a player has several sequences of 3).The number of states in the state space graph is less than $3^9$."
   ]
  },
  {
   "cell_type": "code",
   "execution_count": 15,
   "metadata": {},
   "outputs": [
    {
     "data": {
      "text/plain": [
       "19683"
      ]
     },
     "execution_count": 15,
     "metadata": {},
     "output_type": "execute_result"
    }
   ],
   "source": [
    "3**9"
   ]
  },
  {
   "cell_type": "markdown",
   "metadata": {},
   "source": [
    "A tighter bound for the search space size would be looking at all the ways we can choose $i = 1,2,3,...,9$ places from the board given by ${9 \\choose i}$. Now we need to find all ways how we can choose half the symbols for player o which is given by ${i \\choose \\lfloor \\frac{i}{2} \\rfloor}$. \n",
    "Put together we get $\\sum_{i=1}^9{{9 \\choose i}{i \\choose \\lfloor \\frac{i}{2} \\rfloor}}$."
   ]
  },
  {
   "cell_type": "code",
   "execution_count": 16,
   "metadata": {},
   "outputs": [
    {
     "name": "stdout",
     "output_type": "stream",
     "text": [
      "level\tboards\n",
      "1 \t 9  x  1  =  9\n",
      "2 \t 36  x  2  =  72\n",
      "3 \t 84  x  3  =  252\n",
      "4 \t 126  x  6  =  756\n",
      "5 \t 126  x  10  =  1260\n",
      "6 \t 84  x  20  =  1680\n",
      "7 \t 36  x  35  =  1260\n",
      "8 \t 9  x  70  =  630\n"
     ]
    },
    {
     "data": {
      "text/plain": [
       "5919"
      ]
     },
     "execution_count": 16,
     "metadata": {},
     "output_type": "execute_result"
    }
   ],
   "source": [
    "import math\n",
    "\n",
    "print(\"level\\tboards\")\n",
    "sum = 0\n",
    "\n",
    "for i in range(1,9):\n",
    "    sum += math.comb(9, i) * math.comb(i, math.floor(i/2))\n",
    "    print(i, \"\\t\", math.comb(9, i) , \" x \", math.comb(i, math.floor(i/2)) , \" = \",  math.comb(9, i) * math.comb(i, math.floor(i/2)))\n",
    "\n",
    "sum"
   ]
  },
  {
   "cell_type": "markdown",
   "metadata": {},
   "source": [
    "This is an upper bound since it contains some infeasible boards where both players have 3 in a row."
   ]
  },
  {
   "cell_type": "markdown",
   "metadata": {},
   "source": [
    "### Space and Time Complexity Using the Search Tree Estimates\n",
    "\n",
    "For solving the problem, we use the search tree which can be significantly larger than the state space.\n",
    "A search tree is a subgraph with all **cycles removed.** The standard implementation of DFS **cannot remove redundant paths** (i.e., getting to the same board by plcing symbols in a different order). Therefore, a state can be represented by several nodes in different branches! We observe the following:\n",
    "\n",
    "* The complete search tree has a maximal depth $m=9$\n",
    "* The max branching factor $b=9$ (for first move).\n",
    "\n",
    "DFS has\n",
    "\n",
    "* a space complexity of $O(bm)$ (current path plus frontier) and \n",
    "* a time complecity of $O(b^m)$ (number of expanded nodes)."
   ]
  },
  {
   "cell_type": "code",
   "execution_count": 17,
   "metadata": {},
   "outputs": [
    {
     "data": {
      "text/plain": [
       "81"
      ]
     },
     "execution_count": 17,
     "metadata": {},
     "output_type": "execute_result"
    }
   ],
   "source": [
    "# Space Complexity O(bm):\n",
    "9*9"
   ]
  },
  {
   "cell_type": "code",
   "execution_count": 18,
   "metadata": {
    "tags": []
   },
   "outputs": [
    {
     "data": {
      "text/plain": [
       "387420489"
      ]
     },
     "execution_count": 18,
     "metadata": {},
     "output_type": "execute_result"
    }
   ],
   "source": [
    "# Time Complexity O(b^m): \n",
    "9**9"
   ]
  },
  {
   "cell_type": "markdown",
   "metadata": {},
   "source": [
    "The branching factor decreases after each move. The first level has a branching factor of 9, the second a branching factor of 8, etc. The total number of nodes is:\n",
    "\n",
    "| <div style=\"width:100px\">Level</div>      |  <div style=\"width:200px\"># of nodes</div>   |\n",
    "| :------------- | :---------------- |\n",
    "| root       | $1$ |\n",
    "| level 1    | $9 = 9!/8!$ |\n",
    "| level 2    | $9 \\times 8 = 9!/7!$ |\n",
    "| level 2    | $9 \\times 8 \\times 7 = 9!/6!$ |\n",
    "| ...        |  ... |\n",
    "| level 9    | $9 \\times 8 \\times \\dots \\times 2 \\times 1 = 9!$ |\n",
    "\n",
    "The total number of game tree nodes is less (some games end early) than the sum of the nodes above. The upper bound for the number of nodes is\n",
    "\n",
    "$\\sum_{i = 0}^9 \\frac{9!}{i!}$"
   ]
  },
  {
   "cell_type": "code",
   "execution_count": 19,
   "metadata": {},
   "outputs": [
    {
     "name": "stdout",
     "output_type": "stream",
     "text": [
      "level\t# nodes\n",
      "root\t 1\n",
      "1 \t 9\n",
      "2 \t 72\n",
      "3 \t 504\n",
      "4 \t 3024\n",
      "5 \t 15120\n",
      "6 \t 60480\n",
      "7 \t 181440\n",
      "8 \t 362880\n",
      "9 \t 362880\n"
     ]
    },
    {
     "data": {
      "text/plain": [
       "986410"
      ]
     },
     "execution_count": 19,
     "metadata": {},
     "output_type": "execute_result"
    }
   ],
   "source": [
    "sum = 1\n",
    "partial_fac = 1\n",
    "print(\"level\\t# nodes\")\n",
    "print(\"root\\t 1\")\n",
    "\n",
    "for i in range(9, 0, -1):\n",
    "    partial_fac *= i\n",
    "    sum += partial_fac \n",
    "    print(10-i, \"\\t\", partial_fac)\n",
    "    \n",
    "sum"
   ]
  },
  {
   "cell_type": "markdown",
   "metadata": {},
   "source": [
    "Since some sequences are cut short because of a win, we expect fewer nodes in the game complete tree.\n",
    "\n",
    "**Redundant paths:** The tree size estimation contains redundant paths.\n",
    "\n",
    "**Cycles:** Tic-tac-toe does not have cycles (you cannot remove a played symbol).\n"
   ]
  },
  {
   "cell_type": "markdown",
   "metadata": {},
   "source": [
    "__Note:__ This size makes tic-tac-toe a very small problem that can be easily solved by tree search. Most games and real problems are too large and cannot be solved this way. For example, chess has an estimated state space size of $>10^{30}$. \n",
    "We will learn several methods that address this problem later."
   ]
  },
  {
   "cell_type": "markdown",
   "metadata": {},
   "source": [
    "## Implementation\n",
    "\n",
    "We need to implement the following functions:\n",
    "\n",
    "* `Actions(s)` Legal moves in state s.\n",
    "* `Result(s, a)` Transition model.\n",
    "* `Terminal(s)` Test for terminal states.\n",
    "* `Utility(s)` Utility for player Max for terminal states.\n",
    "\n",
    "The state (a board position) will be implemented as a vector (in Python this is a list) of length 9. The values are `' ', 'x', 'o'`. The actions are just the index in the list (0, 1, 2, ..., 8).\n",
    "\n",
    "\n",
    "The implementation of these and some other helper functions can be found in [tictactoe.py](tictactoe.py)\n",
    "and be imported from that file"
   ]
  },
  {
   "cell_type": "code",
   "execution_count": 20,
   "metadata": {},
   "outputs": [],
   "source": [
    "from tictactoe import empty_board, actions, result, terminal, utility\n",
    "from tictactoe import show_board, show_board_text"
   ]
  },
  {
   "cell_type": "markdown",
   "metadata": {},
   "source": [
    "## Examples"
   ]
  },
  {
   "cell_type": "code",
   "execution_count": 21,
   "metadata": {},
   "outputs": [
    {
     "data": {
      "text/plain": [
       "['x', 'o', ' ', 'x', 'o', ' ', 'x', ' ', ' ']"
      ]
     },
     "metadata": {},
     "output_type": "display_data"
    }
   ],
   "source": [
    "board = empty_board()\n",
    "board[0] = 'x'; board[3] = 'x'; board[6] = 'x'; board[1] = 'o'; board[4] = 'o'  \n",
    "display(board)"
   ]
  },
  {
   "cell_type": "code",
   "execution_count": 22,
   "metadata": {},
   "outputs": [
    {
     "name": "stdout",
     "output_type": "stream",
     "text": [
      "[['x' 'o' ' ']\n",
      " ['x' 'o' ' ']\n",
      " ['x' ' ' ' ']]\n"
     ]
    }
   ],
   "source": [
    "show_board_text(board)"
   ]
  },
  {
   "cell_type": "code",
   "execution_count": 23,
   "metadata": {},
   "outputs": [
    {
     "data": {
      "image/png": "[encoded data removed]",
      "text/plain": [
       "<Figure size 192x192 with 1 Axes>"
      ]
     },
     "metadata": {},
     "output_type": "display_data"
    }
   ],
   "source": [
    "show_board(board)"
   ]
  },
  {
   "cell_type": "code",
   "execution_count": 24,
   "metadata": {},
   "outputs": [
    {
     "data": {
      "text/plain": [
       "[2, 5, 7, 8]"
      ]
     },
     "execution_count": 24,
     "metadata": {},
     "output_type": "execute_result"
    }
   ],
   "source": [
    "actions(board)"
   ]
  },
  {
   "cell_type": "code",
   "execution_count": 25,
   "metadata": {
    "tags": []
   },
   "outputs": [
    {
     "data": {
      "image/png": "[encoded data removed]",
      "text/plain": [
       "<Figure size 192x192 with 1 Axes>"
      ]
     },
     "metadata": {},
     "output_type": "display_data"
    }
   ],
   "source": [
    "board2 = empty_board()\n",
    "board2 = result(board2, 'x', 4)\n",
    "show_board(board2)"
   ]
  },
  {
   "cell_type": "code",
   "execution_count": 26,
   "metadata": {},
   "outputs": [
    {
     "name": "stdout",
     "output_type": "stream",
     "text": [
      "True\n",
      "False\n"
     ]
    }
   ],
   "source": [
    "print(terminal(board))\n",
    "print(terminal(board2))"
   ]
  },
  {
   "cell_type": "markdown",
   "metadata": {},
   "source": [
    "## Experiments\n",
    "\n",
    "\n",
    "### Baseline: Randomized Player\n",
    "\n",
    "A completely randomized player agent can be used as a weak baseline. A simple random agent and a the game environment\n",
    "are implemented in [tictactoe.py](tictactoe.py) as `random_player()` and `play()`, respectively."
   ]
  },
  {
   "cell_type": "code",
   "execution_count": 27,
   "metadata": {},
   "outputs": [],
   "source": [
    "from tictactoe import random_player, play "
   ]
  },
  {
   "cell_type": "markdown",
   "metadata": {},
   "source": [
    "### Random vs. Random\n",
    "\n",
    "Let a random player play another random player for 100 games and look at the number of wins."
   ]
  },
  {
   "cell_type": "code",
   "execution_count": 28,
   "metadata": {},
   "outputs": [
    {
     "data": {
      "text/plain": [
       "{'x': 68, 'o': 24, 'd': 8}"
      ]
     },
     "metadata": {},
     "output_type": "display_data"
    },
    {
     "name": "stdout",
     "output_type": "stream",
     "text": [
      "CPU times: user 80.9 ms, sys: 76.7 ms, total: 158 ms\n",
      "Wall time: 51.8 ms\n"
     ]
    }
   ],
   "source": [
    "%time display(play(random_player, random_player, N = 100))"
   ]
  },
  {
   "cell_type": "markdown",
   "metadata": {},
   "source": [
    "_Note:_ It looks like the first player (x) has an advantage!"
   ]
  }
 ],
 "metadata": {
  "kernelspec": {
   "display_name": "Python 3 (ipykernel)",
   "language": "python",
   "name": "python3"
  },
  "language_info": {
   "codemirror_mode": {
    "name": "ipython",
    "version": 3
   },
   "file_extension": ".py",
   "mimetype": "text/x-python",
   "name": "python",
   "nbconvert_exporter": "python",
   "pygments_lexer": "ipython3",
   "version": "3.10.12"
  }
 },
 "nbformat": 4,
 "nbformat_minor": 4
}
