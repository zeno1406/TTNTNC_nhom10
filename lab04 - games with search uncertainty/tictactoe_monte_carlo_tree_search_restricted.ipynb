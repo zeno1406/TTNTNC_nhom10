{
 "cells": [
  {
   "cell_type": "markdown",
   "metadata": {},
   "source": [
    "# Adversarial Search: Solving Tic-Tac-Toe with Monte Carlo Tree Search"
   ]
  },
  {
   "cell_type": "markdown",
   "metadata": {},
   "source": [
    "## Introduction \n",
    "\n",
    "Multiplayer games can be implemented as:\n",
    "1. Nondeterministic actions: The opponent is seen as part of an environment with nondeterministic actions. Non-determinism is the result of the unknown opponent's moves. \n",
    "2. Optimal Decisions: Minimax search (search complete game tree) and alpha-beta pruning.\n",
    "3. Heuristic Alpha-Beta Tree Search: Cut off tree search and use heuristic to estimate state value. \n",
    "4. __Monte Carlo Search:__ Simulate playouts to estimate state value. \n",
    "\n",
    "Here we will implement search for Tic-Tac-Toe (see [rules](https://en.wikipedia.org/wiki/Tic-tac-toe)). The game is a __zero-sum game__: Win by x results in +1, win by o in -1 and a tie has a value of 0. Max plays x and tries to maximize the outcome while Min plays o and tries to minimize the outcome.   \n",
    "\n",
    "We will implement\n",
    "* We enhance Pure Monte Carlo Search by using the upper confidence bound (UCB1) selection policy. That is, we use UCB1 to determine for which action to perform the next playout. This will allow the algorithm to focus on actions here it needs to collect more information. Note that complete Upper Confidence Bounds applied to Trees (UCT) creates a tree and the expand step in the code needs to be added. The tree branch for the chosen move is preserved and used for future moves."
   ]
  },
  {
   "cell_type": "markdown",
   "metadata": {},
   "source": [
    "The code for the basic functions used for search are implemented in [tictactoe.py](tictactoe.py). "
   ]
  },
  {
   "cell_type": "code",
   "execution_count": 9,
   "metadata": {},
   "outputs": [],
   "source": [
    "from tictactoe import empty_board, actions, result, terminal, utility, other, show_board\n",
    "from tictactoe import random_player, play "
   ]
  },
  {
   "cell_type": "markdown",
   "metadata": {},
   "source": [
    "# Monte Carlo Search with Upper Confidence Bound\n",
    "\n",
    "See AIMA page 163. \n",
    "\n",
    "We enhance pure Monte Carlo Search by using UCB1 as a __selection policy__. This can be seen as a \n",
    "restricted version of UTC: \n",
    "* Only build a tree of depth 1 and use the UBC1 selection policy.\n",
    "* Use a random playout policy.\n",
    "\n",
    "\n",
    "__Note on the playout policy:__ We use here a random playout policy, which ends up creating just a randomized search that works fine for this toy problem. For real applications you need to extend the code with a good __playout policy__ (e.g., manually created heuristics or a neural [network learned by self-play using reinforcement learning](https://towardsdatascience.com/how-to-teach-an-ai-to-play-games-deep-reinforcement-learning-28f9b920440a))."
   ]
  },
  {
   "cell_type": "markdown",
   "metadata": {},
   "source": [
    "## Simulate playouts"
   ]
  },
  {
   "cell_type": "code",
   "execution_count": 10,
   "metadata": {},
   "outputs": [
    {
     "name": "stdout",
     "output_type": "stream",
     "text": [
      "-1\n",
      "0\n",
      "1\n"
     ]
    }
   ],
   "source": [
    "import numpy as np\n",
    "\n",
    "def playout(state, action, player = 'x'):\n",
    "    \"\"\"Perform a random playout starting with the given action on the given board \n",
    "    and return the utility of the finished game.\"\"\"\n",
    "    state = result(state, player, action)\n",
    "    current_player = other(player)\n",
    "    \n",
    "    while(True):\n",
    "        # reached terminal state?\n",
    "        u = utility(state, player)\n",
    "        if u is not None: \n",
    "            return u\n",
    "        \n",
    "        # we use a random playout policy\n",
    "        a = np.random.choice(actions(state))\n",
    "        state = result(state, current_player, a)\n",
    "        #print(state)\n",
    "        \n",
    "        # switch between players\n",
    "        current_player = other(current_player)\n",
    "\n",
    "\n",
    "board = empty_board()\n",
    "print(playout(board, 0))\n",
    "print(playout(board, 0))\n",
    "print(playout(board, 0))"
   ]
  },
  {
   "cell_type": "markdown",
   "metadata": {},
   "source": [
    "## Upper Confidence Bound Applied to Trees (Restricted to Depth 1)"
   ]
  },
  {
   "cell_type": "code",
   "execution_count": 11,
   "metadata": {},
   "outputs": [],
   "source": [
    "import pandas as pd\n",
    "import math\n",
    "\n",
    "DEBUG = 1\n",
    "\n",
    "def UCT_depth1(board, N = 100, player = 'x'):\n",
    "    \"\"\"Upper Confidence bound applied to Trees for limited tree depth of 1. \n",
    "    Simulation budget is N playouts.\"\"\"\n",
    "    global DEBUG\n",
    "    \n",
    "    C = math.sqrt(2) # tradeoff constant\n",
    "    \n",
    "    # the tree is 1 action deep\n",
    "    acts = actions(board)\n",
    "    \n",
    "    u = [0] * len(acts) # total utility through actions\n",
    "    n = [0] * len(acts) # number of playouts through actions\n",
    "    n_parent = 0 # total playouts so far (i.e., number of playouts through parent)\n",
    "    \n",
    "    # make sure we try each action once\n",
    "    UCB1 = [+math.inf] * len(acts) \n",
    "    \n",
    "    for i in range(N):\n",
    "\n",
    "        # Select\n",
    "        action_id = UCB1.index(max(UCB1))\n",
    "    \n",
    "        # Expand\n",
    "        # UTC would expand the tree. We keep the tree at depth 1, essentially performing\n",
    "        # Pure Monte Carlo search with an added UCB1 selection policy. \n",
    "        \n",
    "        # Simulate\n",
    "        p = playout(board, acts[action_id], player = player)\n",
    "    \n",
    "        # Back-Propagate (i.e., update counts and UCB1)\n",
    "        u[action_id] += p\n",
    "        n[action_id] += 1\n",
    "        n_parent += 1\n",
    "        \n",
    "        for action_id in range(len(acts)):\n",
    "            if n[action_id] > 0:\n",
    "                UCB1[action_id] = u[action_id] / n[action_id] + C * math.sqrt(math.log(n_parent) / n[action_id])\n",
    "    \n",
    "    # return action with largest number of playouts \n",
    "    action = acts[n.index(max(n))]\n",
    "    \n",
    "    if DEBUG >= 1: \n",
    "        print(pd.DataFrame({'action':acts, \n",
    "                            'total utility':u, \n",
    "                            '# of playouts':n, \n",
    "                            'UCB1':UCB1}))\n",
    "        print()\n",
    "        print(f\"Best action: {action}\")\n",
    "    \n",
    "    \n",
    "    return action"
   ]
  },
  {
   "cell_type": "code",
   "execution_count": 12,
   "metadata": {},
   "outputs": [
    {
     "data": {
      "text/plain": [
       "[' ', ' ', ' ', ' ', ' ', ' ', ' ', ' ', ' ']"
      ]
     },
     "metadata": {},
     "output_type": "display_data"
    },
    {
     "name": "stdout",
     "output_type": "stream",
     "text": [
      "   action  total utility  # of playouts      UCB1\n",
      "0       0             38            110  0.699849\n",
      "1       1             28             91  0.697332\n",
      "2       2             26             87  0.697346\n",
      "3       3              7             46  0.700204\n",
      "4       4            238            448  0.706858\n",
      "5       5             -5             14  0.636246\n",
      "6       6             25             86  0.691504\n",
      "7       7              1             33  0.677336\n",
      "8       8             24             85  0.685510\n",
      "\n",
      "Best action: 4\n",
      "250 ms ± 0 ns per loop (mean ± std. dev. of 1 run, 1 loop each)\n"
     ]
    }
   ],
   "source": [
    "board = empty_board()\n",
    "display(board)\n",
    "\n",
    "%timeit -n 1 -r 1 UCT_depth1(board, N = 1000)"
   ]
  },
  {
   "cell_type": "markdown",
   "metadata": {},
   "source": [
    "## Some Tests\n",
    "\n",
    "### x is about to win (play 8)"
   ]
  },
  {
   "cell_type": "code",
   "execution_count": 13,
   "metadata": {},
   "outputs": [
    {
     "name": "stdout",
     "output_type": "stream",
     "text": [
      "Board:\n"
     ]
    },
    {
     "data": {
      "image/png": "[encoded data removed]",
      "text/plain": [
       "<Figure size 192x192 with 1 Axes>"
      ]
     },
     "metadata": {},
     "output_type": "display_data"
    },
    {
     "name": "stdout",
     "output_type": "stream",
     "text": [
      "\n",
      "   action  total utility  # of playouts      UCB1\n",
      "0       2             23             25  1.526971\n",
      "1       5             12             16  1.508714\n",
      "2       6              8             13  1.457102\n",
      "3       7              9             13  1.534025\n",
      "4       8             33             33  1.528300\n",
      "\n",
      "Best action: 8\n",
      "9.07 ms ± 0 ns per loop (mean ± std. dev. of 1 run, 1 loop each)\n"
     ]
    }
   ],
   "source": [
    "board = empty_board() \n",
    "board[0] = 'x'\n",
    "board[1] = 'o'\n",
    "board[3] = 'o'\n",
    "board[4] = 'x'\n",
    "\n",
    "print(\"Board:\")\n",
    "show_board(board)\n",
    "\n",
    "print()\n",
    "%timeit -n1 -r1 UCT_depth1(board)"
   ]
  },
  {
   "cell_type": "markdown",
   "metadata": {},
   "source": [
    "### o is about to win"
   ]
  },
  {
   "cell_type": "code",
   "execution_count": 14,
   "metadata": {},
   "outputs": [
    {
     "name": "stdout",
     "output_type": "stream",
     "text": [
      "Board:\n"
     ]
    },
    {
     "data": {
      "image/png": "[encoded data removed]",
      "text/plain": [
       "<Figure size 192x192 with 1 Axes>"
      ]
     },
     "metadata": {},
     "output_type": "display_data"
    },
    {
     "name": "stdout",
     "output_type": "stream",
     "text": [
      "\n",
      "   action  total utility  # of playouts      UCB1\n",
      "0       2              4            620  0.155727\n",
      "1       5            -11             11  0.120694\n",
      "2       6             -5            341  0.186620\n",
      "3       7            -16             28  0.131004\n",
      "\n",
      "Best action: 2\n",
      "129 ms ± 0 ns per loop (mean ± std. dev. of 1 run, 1 loop each)\n"
     ]
    }
   ],
   "source": [
    "board = empty_board() \n",
    "board[0] = 'o'\n",
    "board[1] = 'o'\n",
    "board[3] = 'o'\n",
    "board[4] = 'x'\n",
    "board[8] = 'x'\n",
    "\n",
    "print(\"Board:\")\n",
    "show_board(board)\n",
    "\n",
    "print()\n",
    "%timeit -n1 -r1 UCT_depth1(board, N = 1000)"
   ]
  },
  {
   "cell_type": "markdown",
   "metadata": {},
   "source": [
    "### x can draw if it chooses 7"
   ]
  },
  {
   "cell_type": "code",
   "execution_count": 15,
   "metadata": {},
   "outputs": [
    {
     "name": "stdout",
     "output_type": "stream",
     "text": [
      "Board:\n"
     ]
    },
    {
     "data": {
      "image/png": "[encoded data removed]",
      "text/plain": [
       "<Figure size 192x192 with 1 Axes>"
      ]
     },
     "metadata": {},
     "output_type": "display_data"
    },
    {
     "name": "stdout",
     "output_type": "stream",
     "text": [
      "\n",
      "   action  total utility  # of playouts      UCB1\n",
      "0       3            -12             42  0.287819\n",
      "1       5             -9             75  0.309193\n",
      "2       6            -11             26  0.305871\n",
      "3       7            141            790  0.310723\n",
      "4       8            -10             67  0.304841\n",
      "\n",
      "Best action: 7\n",
      "149 ms ± 0 ns per loop (mean ± std. dev. of 1 run, 1 loop each)\n"
     ]
    }
   ],
   "source": [
    "board = empty_board() \n",
    "board[0] = 'x'\n",
    "board[1] = 'o'\n",
    "board[2] = 'x'\n",
    "board[4] = 'o'\n",
    "\n",
    "print(\"Board:\")\n",
    "show_board(board)\n",
    "\n",
    "print()\n",
    "%timeit -n1 -r1 UCT_depth1(board, N = 1000)"
   ]
  },
  {
   "cell_type": "markdown",
   "metadata": {},
   "source": [
    "### Empty board: Only a draw an be guaranteed"
   ]
  },
  {
   "cell_type": "code",
   "execution_count": 16,
   "metadata": {
    "tags": []
   },
   "outputs": [
    {
     "name": "stdout",
     "output_type": "stream",
     "text": [
      "Board:\n"
     ]
    },
    {
     "data": {
      "image/png": "[encoded data removed]",
      "text/plain": [
       "<Figure size 192x192 with 1 Axes>"
      ]
     },
     "metadata": {},
     "output_type": "display_data"
    },
    {
     "name": "stdout",
     "output_type": "stream",
     "text": [
      "\n",
      "   action  total utility  # of playouts      UCB1\n",
      "0       0             11             23  1.111072\n",
      "1       1              1              9  1.122729\n",
      "2       2             -2              2  1.145966\n",
      "3       3              3             12  1.126087\n",
      "4       4             -2              6  0.905641\n",
      "5       5              0              8  1.072983\n",
      "6       6              4             15  1.050263\n",
      "7       7              6             16  1.133714\n",
      "8       8              0              9  1.011618\n",
      "\n",
      "Best action: 0\n",
      "33.6 ms ± 0 ns per loop (mean ± std. dev. of 1 run, 1 loop each)\n",
      "   action  total utility  # of playouts      UCB1\n",
      "0       0             24            121  0.573554\n",
      "1       1             30            135  0.577441\n",
      "2       2            135            372  0.576892\n",
      "3       3             28            131  0.574342\n",
      "4       4           1834           3591  0.579595\n",
      "5       5              3             63  0.567607\n",
      "6       6             85            264  0.575986\n",
      "7       7             15             97  0.573700\n",
      "8       8             68            226  0.575427\n",
      "\n",
      "Best action: 4\n",
      "849 ms ± 0 ns per loop (mean ± std. dev. of 1 run, 1 loop each)\n"
     ]
    }
   ],
   "source": [
    "board = empty_board() \n",
    "\n",
    "print(\"Board:\")\n",
    "show_board(board)\n",
    "\n",
    "\n",
    "print()\n",
    "%timeit -n1 -r1 UCT_depth1(board, N = 100)\n",
    "%timeit -n1 -r1 UCT_depth1(board, N = 5000)"
   ]
  },
  {
   "cell_type": "markdown",
   "metadata": {},
   "source": [
    "### A bad situation"
   ]
  },
  {
   "cell_type": "code",
   "execution_count": 17,
   "metadata": {},
   "outputs": [
    {
     "name": "stdout",
     "output_type": "stream",
     "text": [
      "Board:\n"
     ]
    },
    {
     "data": {
      "image/png": "[encoded data removed]",
      "text/plain": [
       "<Figure size 192x192 with 1 Axes>"
      ]
     },
     "metadata": {},
     "output_type": "display_data"
    },
    {
     "name": "stdout",
     "output_type": "stream",
     "text": [
      "\n",
      "   action  total utility  # of playouts      UCB1\n",
      "0       1             -4             12  0.542754\n",
      "1       3             -4              4  0.517427\n",
      "2       4              3             42  0.539717\n",
      "3       5             -4              4  0.517427\n",
      "4       6             -2             26  0.518261\n",
      "5       7             -5             12  0.459420\n",
      "\n",
      "Best action: 4\n"
     ]
    },
    {
     "data": {
      "text/plain": [
       "4"
      ]
     },
     "metadata": {},
     "output_type": "display_data"
    }
   ],
   "source": [
    "board = empty_board() \n",
    "board[0] = 'o'\n",
    "board[2] = 'x'\n",
    "board[8] = 'o'\n",
    "\n",
    "print(\"Board:\")\n",
    "show_board(board)\n",
    "\n",
    "\n",
    "print()\n",
    "display(UCT_depth1(board))"
   ]
  },
  {
   "cell_type": "markdown",
   "metadata": {},
   "source": [
    "__Note:__ It looks like random player o is very unlikely to block x and take advantage of the trap by playing the bottom left corner!"
   ]
  },
  {
   "cell_type": "markdown",
   "metadata": {},
   "source": [
    "## Experiments"
   ]
  },
  {
   "cell_type": "markdown",
   "metadata": {},
   "source": [
    "### Pure Monte Carlo Search vs. Random"
   ]
  },
  {
   "cell_type": "code",
   "execution_count": 18,
   "metadata": {},
   "outputs": [],
   "source": [
    "def ucb1_10_player(board, player = 'x'):\n",
    "    action = UCT_depth1(board, N = 10, player = player)\n",
    "    return action\n",
    "\n",
    "def ucb1_100_player(board, player = 'x'):\n",
    "    action = UCT_depth1(board, N = 100, player = player)\n",
    "    return action"
   ]
  },
  {
   "cell_type": "code",
   "execution_count": 19,
   "metadata": {},
   "outputs": [
    {
     "name": "stdout",
     "output_type": "stream",
     "text": [
      "UCB1 (10) vs. random:\n"
     ]
    },
    {
     "data": {
      "text/plain": [
       "{'x': 91, 'o': 6, 'd': 3}"
      ]
     },
     "metadata": {},
     "output_type": "display_data"
    },
    {
     "name": "stdout",
     "output_type": "stream",
     "text": [
      "427 ms ± 0 ns per loop (mean ± std. dev. of 1 run, 1 loop each)\n",
      "\n",
      "random vs. UCB1 (10):\n"
     ]
    },
    {
     "data": {
      "text/plain": [
       "{'x': 20, 'o': 71, 'd': 9}"
      ]
     },
     "metadata": {},
     "output_type": "display_data"
    },
    {
     "name": "stdout",
     "output_type": "stream",
     "text": [
      "339 ms ± 0 ns per loop (mean ± std. dev. of 1 run, 1 loop each)\n"
     ]
    }
   ],
   "source": [
    "DEBUG = 0\n",
    "print(\"UCB1 (10) vs. random:\")\n",
    "%timeit -n1 -r1 display(play(ucb1_10_player, random_player))\n",
    "\n",
    "print()\n",
    "print(\"random vs. UCB1 (10):\")\n",
    "%timeit -n1 -r1 display(play(random_player, ucb1_10_player))"
   ]
  },
  {
   "cell_type": "code",
   "execution_count": 20,
   "metadata": {},
   "outputs": [
    {
     "name": "stdout",
     "output_type": "stream",
     "text": [
      "UCB1 (100) vs. random:\n"
     ]
    },
    {
     "data": {
      "text/plain": [
       "{'x': 99, 'o': 0, 'd': 1}"
      ]
     },
     "metadata": {},
     "output_type": "display_data"
    },
    {
     "name": "stdout",
     "output_type": "stream",
     "text": [
      "3.74 s ± 0 ns per loop (mean ± std. dev. of 1 run, 1 loop each)\n",
      "\n",
      "random vs. UCB1 (100):\n"
     ]
    },
    {
     "data": {
      "text/plain": [
       "{'x': 4, 'o': 85, 'd': 11}"
      ]
     },
     "metadata": {},
     "output_type": "display_data"
    },
    {
     "name": "stdout",
     "output_type": "stream",
     "text": [
      "4.41 s ± 0 ns per loop (mean ± std. dev. of 1 run, 1 loop each)\n"
     ]
    }
   ],
   "source": [
    "DEBUG = 0\n",
    "print(\"UCB1 (100) vs. random:\")\n",
    "%timeit -n 1 -r 1 display(play(ucb1_100_player, random_player))\n",
    "\n",
    "print()\n",
    "print(\"random vs. UCB1 (100):\")\n",
    "%timeit -n 1 -r 1 display(play(random_player, ucb1_100_player))"
   ]
  },
  {
   "cell_type": "code",
   "execution_count": 21,
   "metadata": {
    "tags": []
   },
   "outputs": [
    {
     "name": "stdout",
     "output_type": "stream",
     "text": [
      "UCB1 (100) vs. UCB1 (10):\n"
     ]
    },
    {
     "data": {
      "text/plain": [
       "{'x': 88, 'o': 1, 'd': 11}"
      ]
     },
     "metadata": {},
     "output_type": "display_data"
    },
    {
     "name": "stdout",
     "output_type": "stream",
     "text": [
      "6.09 s ± 0 ns per loop (mean ± std. dev. of 1 run, 1 loop each)\n",
      "\n",
      "UCB1 (10) vs. UCB1 (100):\n"
     ]
    },
    {
     "data": {
      "text/plain": [
       "{'x': 32, 'o': 53, 'd': 15}"
      ]
     },
     "metadata": {},
     "output_type": "display_data"
    },
    {
     "name": "stdout",
     "output_type": "stream",
     "text": [
      "4.74 s ± 0 ns per loop (mean ± std. dev. of 1 run, 1 loop each)\n"
     ]
    }
   ],
   "source": [
    "DEBUG = 0\n",
    "print(\"UCB1 (100) vs. UCB1 (10):\")\n",
    "%timeit -n 1 -r 1 display(play(ucb1_100_player, ucb1_10_player))\n",
    "\n",
    "print()\n",
    "print(\"UCB1 (10) vs. UCB1 (100):\")\n",
    "%timeit -n 1 -r 1 display(play(ucb1_10_player, ucb1_100_player))"
   ]
  }
 ],
 "metadata": {
  "kernelspec": {
   "display_name": "Python 3 (ipykernel)",
   "language": "python",
   "name": "python3"
  },
  "language_info": {
   "codemirror_mode": {
    "name": "ipython",
    "version": 3
   },
   "file_extension": ".py",
   "mimetype": "text/x-python",
   "name": "python",
   "nbconvert_exporter": "python",
   "pygments_lexer": "ipython3",
   "version": "3.10.12"
  }
 },
 "nbformat": 4,
 "nbformat_minor": 4
}
