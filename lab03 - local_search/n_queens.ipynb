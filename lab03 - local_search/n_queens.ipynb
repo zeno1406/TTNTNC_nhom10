{
 "cells": [
  {
   "cell_type": "markdown",
   "metadata": {},
   "source": [
    "# Solving the n-Queens Problem using Local Search\n",
    "\n",
    "Student Name: [Nguyen Thanh Long]\n",
    "\n",
    "I have used the following AI tools: [ChatGPT]\n",
    "\n",
    "I understand that my submission needs to be my own work: [I do understand]\n"
   ]
  },
  {
   "cell_type": "markdown",
   "metadata": {},
   "source": [
    "## Learning Outcomes\n",
    "\n",
    "* Implement multiple hill climbing search variants to solve the n-Queens problem.\n",
    "* Apply simulated annealing with appropriate temperature scheduling to overcome local optima.\n",
    "* Compare algorithm performance using runtime, solution quality, and success rate metrics.\n",
    "* Analyze and visualize algorithm performance across different problem sizes.\n",
    "* Graduate Students: Design and test alternative local move operators to improve search efficiency."
   ]
  },
  {
   "metadata": {},
   "cell_type": "markdown",
   "source": [
    "### Kết quả học tập\n",
    "- Triển khai nhiều biến thể khác nhau của thuật toán leo đồi (Hill Climbing) để giải quyết bài toán n-Queens.\n",
    "- Áp dụng phương pháp mô phỏng tôi luyện (Simulated Annealing) cùng với lịch trình nhiệt độ (temperature schedule) phù hợp nhằm vượt qua các cực trị cục bộ (local optima).\n",
    "- So sánh hiệu suất của các thuật toán dựa trên các chỉ số: thời gian chạy (runtime), chất lượng nghiệm (solution quality), và tỉ lệ thành công (success rate).\n",
    "- Phân tích và trực quan hóa hiệu suất của thuật toán trên các kích thước bàn cờ khác nhau.\n",
    "- Đối với học viên cao học: Thiết kế và thử nghiệm các phép di chuyển cục bộ thay thế (alternative local move operators) nhằm nâng cao hiệu quả tìm kiếm.\n"
   ]
  },
  {
   "cell_type": "markdown",
   "metadata": {},
   "source": [
    "## Instructions\n",
    "\n",
    "Total Points: Undergrads 100 + 5 bonus / Graduate students 110\n",
    "\n",
    "Complete this notebook. Use the provided notebook cells and insert additional code and markdown cells as needed. Submit the completely rendered notebook as a HTML file."
   ]
  },
  {
   "metadata": {},
   "cell_type": "markdown",
   "source": [
    "### Hướng dẫn\n",
    "- Tổng điểm: Sinh viên đại học: 100 điểm(+5 điểm thưởng) / Học viên cao học: 110 điểm.\n",
    "- Hoàn thiện toàn bộ nội dung trong notebook. Sử dụng các ô (cells) được cung cấp sẵn và bổ sung thêm các ô mã (code cells) hoặc ghi chú (markdown cells) khi cần thiết.\n",
    "- Sau khi hoàn tất, xuất (render) toàn bộ notebook và nộp dưới định dạng tệp HTML."
   ]
  },
  {
   "cell_type": "markdown",
   "metadata": {},
   "source": [
    "## The n-Queens Problem\n",
    "\n",
    "* __Goal:__ Find an arrangement of $n$ queens on a $n \\times n$ chess board so that no queen is on the same row, column or diagonal as any other queen.\n",
    "\n",
    "* __State space:__ An arrangement of the queens on the board. We restrict the state space to arrangements where there is only a single queen per column. We represent a state as an integer vector $\\mathbf{q} = \\{q_1, q_2, \\dots, q_n\\}$, each number representing the row positions of the queens from left to right. We will call a state a \"board.\"\n",
    "\n",
    "* __Objective function:__ The number of pairwise conflicts (i.e., two queens in the same row/column/diagonal).\n",
    "The optimization problem is to find the optimal arrangement $\\mathbf{q}^*$ of $n$ queens on the board can be written as:\n",
    "\n",
    "  > minimize: $\\mathrm{conflicts}(\\mathbf{q})$\n",
    "  >\n",
    "  > subject to: $\\mathbf{q} \\ \\text{contains only one queen per column}$\n",
    "\n",
    "  Note: the constraint (subject to) is enforced by the definition of the state space.\n",
    "\n",
    "* __Local improvement move:__ Move one queen to a different row in its column.\n",
    "\n",
    "* __Termination:__ For this problem there is always an arrangement $\\mathbf{q}^*$ with $\\mathrm{conflicts}(\\mathbf{q}^*) = 0$, however, the local improvement moves might end up in a local minimum."
   ]
  },
  {
   "metadata": {},
   "cell_type": "markdown",
   "source": [
    "### **Vấn đề N-Queens**\n",
    "\n",
    "* **Mục tiêu:** Tìm một cách sắp xếp *n* quân hậu trên bàn cờ *n × n* sao cho không có hai quân hậu nào cùng nằm trên cùng một hàng, cột hoặc đường chéo.\n",
    "\n",
    "* **Không gian trạng thái (State space):**\n",
    "  Một trạng thái là một cách sắp xếp các quân hậu trên bàn cờ.\n",
    "  Chúng ta giới hạn không gian trạng thái ở những sắp xếp chỉ có **một quân hậu trên mỗi cột**.\n",
    "  Mỗi trạng thái được biểu diễn bằng một **vector số nguyên**\n",
    "  $\\mathbf{q} = \\{q_1, q_2, \\dots, q_n\\}$, trong đó mỗi phần tử $q_i$ biểu thị **vị trí hàng** của quân hậu trong cột thứ $i$ (từ trái sang phải).\n",
    "  Ta sẽ gọi mỗi trạng thái là một “bàn cờ”.\n",
    "\n",
    "* **Hàm mục tiêu (Objective function):**\n",
    "  Là **số cặp xung đột** giữa các quân hậu (ví dụ: hai quân hậu nằm trên cùng hàng, cột hoặc đường chéo).\n",
    "  Bài toán tối ưu là tìm một sắp xếp tối ưu $\\mathbf{q}^*$ của $n$ quân hậu sao cho:\n",
    "  $\n",
    "  \\text{minimize: } conflicts(\\mathbf{q})\n",
    "  $\n",
    "  với điều kiện rằng:\n",
    "  $\n",
    "  \\mathbf{q} \\text{ chỉ chứa một quân hậu trên mỗi cột.}\n",
    "  $\n",
    "\n",
    "  Lưu ý: điều kiện ràng buộc này đã được đảm bảo bởi cách định nghĩa của không gian trạng thái.\n",
    "\n",
    "* **Phép di chuyển cải thiện cục bộ (Local improvement move):**\n",
    "  Di chuyển một quân hậu sang **một hàng khác trong cùng cột**.\n",
    "\n",
    "* **Điều kiện dừng (Termination):**\n",
    "  Đối với bài toán này, luôn tồn tại một sắp xếp $\\mathbf{q}^\n",
    "  *$ sao cho $conflicts(\\mathbf{q}^*) = 0$.\n",
    "  Tuy nhiên, trong quá trình tối ưu, các bước cải thiện cục bộ có thể khiến ta **rơi vào cực tiểu cục bộ** (local minimum).\n"
   ]
  },
  {
   "cell_type": "markdown",
   "metadata": {},
   "source": [
    "## Helper functions"
   ]
  },
  {
   "metadata": {},
   "cell_type": "markdown",
   "source": [
    "Helper functions have 4 definations:\n",
    "* random_board(n)\n",
    "* comb2(n)\n",
    "* conflicts(board)\n",
    "* showboard(board,cols,fontsize)\n"
   ]
  },
  {
   "cell_type": "code",
   "metadata": {
    "ExecuteTime": {
     "end_time": "2025-10-08T09:35:20.223588Z",
     "start_time": "2025-10-08T09:35:19.423210Z"
    }
   },
   "source": [
    "import numpy as np\n",
    "import matplotlib.pyplot as plt\n",
    "from matplotlib import colors\n",
    "\n",
    "np.random.seed(1234)\n",
    "\n",
    "\n",
    "def random_board(n):\n",
    "    \"\"\"Creates a random board of size n x n. Note that only a single queen is placed in each column!\"\"\"\n",
    "    #Tạo bàn cờ ngẫu nhiên kích thước n x n. Mỗi cột chỉ có duy nhất một quân hậu!\n",
    "\n",
    "    return(np.random.randint(0,n, size = n))\n",
    "\n",
    "def comb2(n): return n*(n-1)//2 # this is n choose 2 equivalent to math.comb(n, 2); // is int division\n",
    "                                #The mathematical expression C(n,2) represents the number of ways to choose 2 items from a set of ( n ) items, also known as a combination.\n",
    "\n",
    "def conflicts(board):\n",
    "    \"\"\"Calculate the number of conflicts, i.e., the objective function.\"\"\"\n",
    "    #Tính số lượng xung đột — hay nói cách khác, hàm mục tiêu (objective function) của bài toán.\n",
    "\n",
    "    n = len(board)\n",
    "\n",
    "    horizontal_cnt = [0] * n #Tạo ra mảng chứa n số 0 tượng trưng cho số hàng ngang của bàn cờ\n",
    "    diagonal1_cnt = [0] * (2 * n - 1) # Tạo ra mảng chứa 2n số 0 tượng trưng cho số đường chéo phụ của bàn cờ\n",
    "    diagonal2_cnt = [0] * (2 * n - 1) # Tạo ra mảng chứa 2n số 0 tượng trưng cho số đường chéo chính của bàn cờ\n",
    "\n",
    "    for i in range(n):\n",
    "        horizontal_cnt[board[i]] += 1 #boardi trả về hàng hậu đứng, lúc này vị trí hori_cnt[x] tăng từ 0 lên 1 vì có 1 hậu\n",
    "        diagonal1_cnt[i + board[i]] += 1 #i đầu là cột, board[i] là hàng, đường chéo phụ /\n",
    "        diagonal2_cnt[i - board[i] + (n-1)] += 1 #i đầu là cột, board[i] là hàng, +(n-1) để số không âm, đường chéo chính \\\n",
    "\n",
    "    return sum(map(comb2, horizontal_cnt + diagonal1_cnt + diagonal2_cnt))\n",
    "#sum() tính tổng\n",
    "#map(function,y)->áp dụng function cho y, y là list[0,1,2,3] thì function sẽ lần lượt áp dụng lên y: function(0), function(1)...\n",
    "#các các chuỗi cnt + nhau = 1 chuoi thong nhat\n",
    "\n",
    "# decrease the font size to fit larger boards\n",
    "def show_board(board, cols = ['white', 'gray'], fontsize = 48):  \n",
    "    \"\"\"display the board\"\"\"\n",
    "    \n",
    "    n = len(board)\n",
    "    \n",
    "    # create chess board display\n",
    "    display = np.zeros([n,n])\n",
    "    for i in range(n):\n",
    "        for j in range(n):\n",
    "            if (((i+j) % 2) != 0): \n",
    "                display[i,j] = 1\n",
    "    \n",
    "    cmap = colors.ListedColormap(cols)\n",
    "    fig, ax = plt.subplots()\n",
    "    ax.imshow(display, cmap = cmap, \n",
    "              norm = colors.BoundaryNorm(range(len(cols)+1), cmap.N))\n",
    "    ax.set_xticks([])\n",
    "    ax.set_yticks([])\n",
    "    \n",
    "    # place queens. Note: Unicode u265B is a black queen\n",
    "    for j in range(n):\n",
    "        plt.text(j, board[j], u\"\\u265B\", fontsize = fontsize, \n",
    "                 horizontalalignment = 'center',\n",
    "                 verticalalignment = 'center')\n",
    "    \n",
    "    print(f\"Board with {conflicts(board)} conflicts.\")\n",
    "    plt.show()"
   ],
   "outputs": [],
   "execution_count": 1
  },
  {
   "metadata": {
    "ExecuteTime": {
     "end_time": "2025-10-08T09:35:26.282294Z",
     "start_time": "2025-10-08T09:35:26.277553Z"
    }
   },
   "cell_type": "code",
   "source": [
    "def conflicts(board):\n",
    "    \"\"\"Calculate the number of conflicts, i.e., the objective function.\"\"\"\n",
    "    #Tính số lượng xung đột — hay nói cách khác, hàm mục tiêu (objective function) của bài toán.\n",
    "\n",
    "    n = len(board)\n",
    "\n",
    "    horizontal_cnt = [0] * n #Tạo ra mảng chứa n số 0 tượng trưng cho số hàng ngang của bàn cờ\n",
    "    diagonal1_cnt = [0] * (2 * n - 1) # Tạo ra mảng chứa 2n số 0 tượng trưng cho số đường chéo phụ của bàn cờ\n",
    "    diagonal2_cnt = [0] * (2 * n - 1) # Tạo ra mảng chứa 2n số 0 tượng trưng cho số đường chéo chính của bàn cờ\n",
    "\n",
    "    for i in range(n):\n",
    "        horizontal_cnt[board[i]] += 1 #boardi trả về hàng hậu đứng, lúc này vị trí hori_cnt[x] tăng từ 0 lên 1 vì có 1 hậu\n",
    "        diagonal1_cnt[i + board[i]] += 1 #i đầu là cột, board[i] là hàng, đường chéo phụ /\n",
    "        diagonal2_cnt[i - board[i] + (n-1)] += 1 #i đầu là cột, board[i] là hàng, +(n-1) để số không âm, đường chéo chính \\\n",
    "\n",
    "    # print(f\"horizontal queen: {horizontal_cnt}\")\n",
    "    # print(f\"diagonal queen /: {diagonal1_cnt}\")\n",
    "    # print(f\"diagonal queen \\: {diagonal2_cnt}\")\n",
    "    # print(f\"Big list: {horizontal_cnt + diagonal1_cnt + diagonal2_cnt}\")\n",
    "    # print(f\"Map comb2 to big list: {list(map(comb2, horizontal_cnt + diagonal1_cnt + diagonal2_cnt))}\")\n",
    "    return sum(map(comb2, horizontal_cnt + diagonal1_cnt + diagonal2_cnt))\n",
    "\n"
   ],
   "outputs": [],
   "execution_count": 2
  },
  {
   "cell_type": "markdown",
   "metadata": {},
   "source": [
    "## Create a board"
   ]
  },
  {
   "cell_type": "code",
   "metadata": {
    "ExecuteTime": {
     "end_time": "2025-10-07T13:27:38.034807Z",
     "start_time": "2025-10-07T13:27:37.983429Z"
    }
   },
   "source": [
    "board = random_board(4)\n",
    "\n",
    "show_board(board)\n",
    "print(f\"Queens (left to right) are at rows: {board}\")\n",
    "print(f\"Number of conflicts: {conflicts(board)}\")"
   ],
   "outputs": [
    {
     "name": "stdout",
     "output_type": "stream",
     "text": [
      "Board with 4 conflicts.\n"
     ]
    },
    {
     "data": {
      "text/plain": [
       "<Figure size 640x480 with 1 Axes>"
      ],
      "image/png": "[encoded data removed]"
     },
     "metadata": {},
     "output_type": "display_data",
     "jetTransient": {
      "display_id": null
     }
    },
    {
     "name": "stdout",
     "output_type": "stream",
     "text": [
      "Queens (left to right) are at rows: [3 3 2 1]\n",
      "Number of conflicts: 4\n"
     ]
    }
   ],
   "execution_count": 7
  },
  {
   "cell_type": "markdown",
   "metadata": {},
   "source": [
    "A board $4 \\times 4$ with no conflicts:"
   ]
  },
  {
   "cell_type": "code",
   "metadata": {
    "ExecuteTime": {
     "end_time": "2025-10-07T13:09:04.560929Z",
     "start_time": "2025-10-07T13:09:04.509733Z"
    }
   },
   "source": [
    "board = [1,3,0,2]\n",
    "show_board(board)"
   ],
   "outputs": [
    {
     "name": "stdout",
     "output_type": "stream",
     "text": [
      "Board with 0 conflicts.\n"
     ]
    },
    {
     "data": {
      "text/plain": [
       "<Figure size 640x480 with 1 Axes>"
      ],
      "image/png": "[encoded data removed]"
     },
     "metadata": {},
     "output_type": "display_data",
     "jetTransient": {
      "display_id": null
     }
    }
   ],
   "execution_count": 3
  },
  {
   "cell_type": "markdown",
   "metadata": {},
   "source": [
    "# Tasks\n",
    "\n",
    "## General [10 Points]\n",
    "\n",
    "1. Make sure that you use the latest version of this notebook. Sync your forked repository and pull the latest revision. \n",
    "2. Your implementation can use libraries like math, numpy, scipy, but not libraries that implement intelligent agents or complete search algorithms. Try to keep the code simple! In this course, we want to learn about the algorithms and we often do not need to use object-oriented design.\n",
    "3. You notebook needs to be formatted professionally. \n",
    "    - Add additional markdown blocks for your description, comments in the code, add tables and use mathplotlib to produce charts where appropriate\n",
    "    - Do not show debugging output or include an excessive amount of output.\n",
    "    - Check that your submitted file is readable and contains all figures.\n",
    "4. Document your code. Use comments in the code and add a discussion of how your implementation works and your design choices."
   ]
  },
  {
   "metadata": {},
   "cell_type": "markdown",
   "source": [
    "## Các Nhiệm vụ\n",
    "Chung [10 Điểm]\n",
    "1. Đảm bảo rằng bạn sử dụng phiên bản mới nhất của sổ tay (notebook) này. Đồng bộ hóa kho lưu trữ đã fork của bạn và kéo (pull) bản sửa đổi mới nhất.\n",
    "\n",
    "2. Việc triển khai của bạn có thể sử dụng các thư viện như math, numpy, scipy, nhưng không được sử dụng các thư viện triển khai các tác nhân thông minh (intelligent agents) hoặc các thuật toán tìm kiếm hoàn chỉnh. Cố gắng giữ cho mã nguồn đơn giản! Trong khóa học này, chúng ta muốn tìm hiểu về các thuật toán và thường không cần sử dụng thiết kế hướng đối tượng (object-oriented design).\n",
    "\n",
    "3. Sổ tay của bạn cần được định dạng chuyên nghiệp.\n",
    "\n",
    " * Thêm các khối markdown bổ sung cho mô tả của bạn, nhận xét trong mã, thêm bảng và sử dụng matplotlib để tạo biểu đồ khi thích hợp.\n",
    "\n",
    " * Không hiển thị đầu ra gỡ lỗi (debugging output) hoặc bao gồm một lượng đầu ra quá mức.\n",
    "\n",
    " * Kiểm tra xem tệp bạn gửi có dễ đọc và chứa tất cả các hình ảnh/biểu đồ (figures) hay không.\n",
    "\n",
    "4. Tài liệu hóa mã của bạn. Sử dụng nhận xét trong mã và thêm một bài thảo luận về cách thức triển khai của bạn hoạt động và các lựa chọn thiết kế của bạn."
   ]
  },
  {
   "cell_type": "markdown",
   "metadata": {},
   "source": [
    "## Task 1: Steepest-ascend Hill Climbing Search [20 Points]\n",
    "\n",
    "Calculate the objective function for all local moves (see definition of local moves above) and always choose the best among all local moves. If there are no local moves that improve the objective, then you have reached a local optimum.\n",
    "\n",
    "Task 1: Tìm kiếm leo đồi siêu dốc\n",
    "\n",
    "Tính toán hàm mục tiêu cho toàn bộ nước đi cục bộ(xem định nghĩa về các nước đi cục bộ ở trên) và luôn chọn nước đi tốt nhất. Nếu không có bước di chuyển cục bộ nào cải thiện được giá trị mục tiêu, thì bạn đã đạt đến tối ưu cục bộ (local optimum)."
   ]
  },
  {
   "metadata": {
    "ExecuteTime": {
     "end_time": "2025-10-08T10:12:44.534694Z",
     "start_time": "2025-10-08T10:12:44.530849Z"
    }
   },
   "cell_type": "code",
   "source": [
    "board = random_board(4)\n",
    "board\n",
    "conflicts(board)"
   ],
   "outputs": [
    {
     "data": {
      "text/plain": [
       "4"
      ]
     },
     "execution_count": 7,
     "metadata": {},
     "output_type": "execute_result"
    }
   ],
   "execution_count": 7
  },
  {
   "cell_type": "code",
   "metadata": {
    "ExecuteTime": {
     "end_time": "2025-10-08T17:20:26.905586Z",
     "start_time": "2025-10-08T17:20:26.900688Z"
    }
   },
   "source": [
    "def steepest_ascent_hill_climbing(initial_board):\n",
    "    \"\"\"\n",
    "    Thực hiện thuật toán Steepest-Ascent Hill Climbing để giải quyết bài toán n-Queens.\n",
    "\n",
    "    Args:\n",
    "        initial_board: Trạng thái bàn cờ ban đầu.\n",
    "\n",
    "    Returns:\n",
    "        Trạng thái bàn cờ cuối cùng sau khi tối ưu.\n",
    "    \"\"\"\n",
    "    board = initial_board.copy()\n",
    "\n",
    "    while True:\n",
    "        current_conflicts = conflicts(board)\n",
    "        best_conflicts = current_conflicts\n",
    "        best_board = board\n",
    "\n",
    "        n = len(board)\n",
    "        # Duyệt qua tất cả các nước đi có thể\n",
    "        for col in range(n):\n",
    "            for row in range(n):\n",
    "                # Không cần thử di chuyển đến vị trí cũ\n",
    "                if board[col] == row:\n",
    "                    continue\n",
    "\n",
    "                # Tạo một bản sao để thử nghiệm nước đi\n",
    "                temp_board = board.copy()\n",
    "                temp_board[col] = row\n",
    "                temp_conflicts = conflicts(temp_board)\n",
    "\n",
    "                # Nếu tìm thấy một nước đi tốt hơn, ghi nhớ nó lại\n",
    "                if temp_conflicts < best_conflicts:\n",
    "                    best_conflicts = temp_conflicts\n",
    "                    best_board = temp_board\n",
    "\n",
    "        # Sau khi đã thử tất cả các nước đi:\n",
    "        # Nếu không có nước đi nào tốt hơn, chúng ta đã đạt tối ưu cục bộ -> dừng lại\n",
    "        if best_conflicts == current_conflicts:\n",
    "            print(\"Đã đạt tối ưu cục bộ. Dừng lại.\")\n",
    "            return best_board\n",
    "\n",
    "        # Nếu có, cập nhật bàn cờ và tiếp tục vòng lặp\n",
    "        print(f\"Tìm thấy nước đi tốt hơn, số xung đột giảm từ {current_conflicts} xuống {best_conflicts}.\")\n",
    "        board = best_board"
   ],
   "outputs": [],
   "execution_count": 13
  },
  {
   "metadata": {
    "ExecuteTime": {
     "end_time": "2025-10-08T17:20:29.021281Z",
     "start_time": "2025-10-08T17:20:28.879826Z"
    }
   },
   "cell_type": "code",
   "source": [
    "# 1. Tạo một bàn cờ ngẫu nhiên\n",
    "start_board = random_board(8) # Ví dụ với bàn cờ 8x8\n",
    "print(\"Bàn cờ ban đầu:\")\n",
    "show_board(start_board)\n",
    "\n",
    "# 2. Chạy thuật toán\n",
    "final_board = steepest_ascent_hill_climbing(start_board)\n",
    "\n",
    "# 3. Hiển thị kết quả\n",
    "print(\"\\nBàn cờ cuối cùng:\")\n",
    "show_board(final_board)"
   ],
   "outputs": [
    {
     "name": "stdout",
     "output_type": "stream",
     "text": [
      "Bàn cờ ban đầu:\n",
      "Board with 12 conflicts.\n"
     ]
    },
    {
     "data": {
      "text/plain": [
       "<Figure size 640x480 with 1 Axes>"
      ],
      "image/png": "[encoded data removed]"
     },
     "metadata": {},
     "output_type": "display_data",
     "jetTransient": {
      "display_id": null
     }
    },
    {
     "name": "stdout",
     "output_type": "stream",
     "text": [
      "Tìm thấy nước đi tốt hơn, số xung đột giảm từ 12 xuống 7.\n",
      "Tìm thấy nước đi tốt hơn, số xung đột giảm từ 7 xuống 4.\n",
      "Tìm thấy nước đi tốt hơn, số xung đột giảm từ 4 xuống 3.\n",
      "Tìm thấy nước đi tốt hơn, số xung đột giảm từ 3 xuống 2.\n",
      "Tìm thấy nước đi tốt hơn, số xung đột giảm từ 2 xuống 1.\n",
      "Tìm thấy nước đi tốt hơn, số xung đột giảm từ 1 xuống 0.\n",
      "Đã đạt tối ưu cục bộ. Dừng lại.\n",
      "\n",
      "Bàn cờ cuối cùng:\n",
      "Board with 0 conflicts.\n"
     ]
    },
    {
     "data": {
      "text/plain": [
       "<Figure size 640x480 with 1 Axes>"
      ],
      "image/png": "[encoded data removed]"
     },
     "metadata": {},
     "output_type": "display_data",
     "jetTransient": {
      "display_id": null
     }
    }
   ],
   "execution_count": 14
  },
  {
   "cell_type": "markdown",
   "metadata": {},
   "source": [
    "## Task 2: Stochastic Hill Climbing 1 [10 Points]\n",
    "\n",
    "Chooses randomly from among all uphill moves till you have reached a local optimum.\n",
    "\n",
    "Xác định tất cả các nước đi giúp cải thiện tình hình (gọi là các \"uphill moves\" - nước đi lên dốc).\n",
    "\n",
    "Sau đó, chọn ngẫu nhiên một nước đi từ trong danh sách các nước đi tốt đó."
   ]
  },
  {
   "cell_type": "code",
   "metadata": {
    "ExecuteTime": {
     "end_time": "2025-10-08T18:33:51.494993Z",
     "start_time": "2025-10-08T18:33:51.488286Z"
    }
   },
   "source": [
    "import random\n",
    "def stochastic_hill_climbing(initial_board):\n",
    "    \"\"\"\n",
    "    Thực hiện thuật toán Stochastic Hill Climbing (biến thể 1)\n",
    "    để giải quyết bài toán n-Queens.\n",
    "\n",
    "    Args:\n",
    "        initial_board: Trạng thái bàn cờ ban đầu.\n",
    "\n",
    "    Returns:\n",
    "        Trạng thái bàn cờ cuối cùng sau khi tối ưu.\n",
    "    \"\"\"\n",
    "    board = initial_board.copy()\n",
    "\n",
    "    while True:\n",
    "        current_conflicts = conflicts(board)\n",
    "        # Nếu đã tìm được lời giải, dừng lại\n",
    "        if current_conflicts == 0:\n",
    "            print(\"Đã tìm thấy lời giải tối ưu (0 xung đột).\")\n",
    "            return board\n",
    "\n",
    "        uphill_moves = []\n",
    "        n = len(board)\n",
    "\n",
    "        # Duyệt qua tất cả các nước đi có thể\n",
    "        for col in range(n):\n",
    "            for row in range(n):\n",
    "                if board[col] == row:\n",
    "                    continue\n",
    "\n",
    "                temp_board = board.copy()\n",
    "                temp_board[col] = row\n",
    "\n",
    "                # Nếu nước đi này tốt hơn, thêm nó vào danh sách các lựa chọn\n",
    "                if conflicts(temp_board) < current_conflicts:\n",
    "                    uphill_moves.append(temp_board)\n",
    "\n",
    "        # Nếu không có lựa chọn nào tốt hơn, chúng ta đã kẹt -> dừng lại\n",
    "        if not uphill_moves:\n",
    "            print(\"Đã đạt tối ưu cục bộ. Dừng lại.\")\n",
    "            return board\n",
    "\n",
    "        # Ngược lại, chọn ngẫu nhiên một trong các nước đi tốt hơn\n",
    "        board = random.choice(uphill_moves)\n",
    "        print(f\"Chọn ngẫu nhiên một nước đi, số xung đột mới: {conflicts(board)}\")"
   ],
   "outputs": [],
   "execution_count": 17
  },
  {
   "metadata": {
    "ExecuteTime": {
     "end_time": "2025-10-08T18:33:53.843002Z",
     "start_time": "2025-10-08T18:33:53.716551Z"
    }
   },
   "cell_type": "code",
   "source": [
    "# 1. Tạo một bàn cờ ngẫu nhiên\n",
    "start_board = random_board(8) # Ví dụ với bàn cờ 8x8\n",
    "print(\"Bàn cờ ban đầu:\")\n",
    "show_board(start_board)\n",
    "\n",
    "# 2. Chạy thuật toán\n",
    "final_board = stochastic_hill_climbing(start_board)\n",
    "\n",
    "# 3. Hiển thị kết quả\n",
    "print(\"\\nBàn cờ cuối cùng:\")\n",
    "show_board(final_board)"
   ],
   "outputs": [
    {
     "name": "stdout",
     "output_type": "stream",
     "text": [
      "Bàn cờ ban đầu:\n",
      "Board with 4 conflicts.\n"
     ]
    },
    {
     "data": {
      "text/plain": [
       "<Figure size 640x480 with 1 Axes>"
      ],
      "image/png": "[encoded data removed]"
     },
     "metadata": {},
     "output_type": "display_data",
     "jetTransient": {
      "display_id": null
     }
    },
    {
     "name": "stdout",
     "output_type": "stream",
     "text": [
      "Chọn ngẫu nhiên một nước đi, số xung đột mới: 3\n",
      "Chọn ngẫu nhiên một nước đi, số xung đột mới: 2\n",
      "Đã đạt tối ưu cục bộ. Dừng lại.\n",
      "\n",
      "Bàn cờ cuối cùng:\n",
      "Board with 2 conflicts.\n"
     ]
    },
    {
     "data": {
      "text/plain": [
       "<Figure size 640x480 with 1 Axes>"
      ],
      "image/png": "[encoded data removed]"
     },
     "metadata": {},
     "output_type": "display_data",
     "jetTransient": {
      "display_id": null
     }
    }
   ],
   "execution_count": 18
  },
  {
   "cell_type": "markdown",
   "metadata": {},
   "source": [
    "## Task 3: Stochastic Hill Climbing 2 [20 Points]\n",
    "\n",
    "A popular version of stochastic hill climbing generates only a single random local neighbor at a time and accept it if it has a better objective function value than the current state. This is very efficient if each state has many possible successor states. This method is called \"First-choice hill climbing\" in the textbook.\n",
    "\n",
    "__Notes:__ \n",
    "\n",
    "* Detecting local optima is tricky! You can, for example, stop if you were not able to improve the objective function during the last $x$ tries."
   ]
  },
  {
   "cell_type": "code",
   "metadata": {
    "ExecuteTime": {
     "end_time": "2025-10-08T19:19:04.185666Z",
     "start_time": "2025-10-08T19:19:04.180577Z"
    }
   },
   "source": [
    "import random\n",
    "\n",
    "def first_choice_hill_climbing(initial_board, max_tries=100):\n",
    "    \"\"\"\n",
    "    Thực hiện thuật toán First-Choice Hill Climbing (biến thể 2).\n",
    "\n",
    "    Args:\n",
    "        initial_board: Trạng thái bàn cờ ban đầu.\n",
    "        max_tries: Số lần thử ngẫu nhiên tối đa trước khi kết luận bị kẹt.\n",
    "\n",
    "    Returns:\n",
    "        Trạng thái bàn cờ cuối cùng sau khi tối ưu.\n",
    "    \"\"\"\n",
    "    board = initial_board.copy()\n",
    "    n = len(board)\n",
    "\n",
    "    while True:\n",
    "        current_conflicts = conflicts(board)\n",
    "        if current_conflicts == 0:\n",
    "            print(\"Đã tìm thấy lời giải tối ưu (0 xung đột).\")\n",
    "            return board\n",
    "\n",
    "        # Cờ để kiểm tra xem có tìm được nước đi tốt hơn trong max_tries lần không\n",
    "        found_better_move = False\n",
    "\n",
    "        for i in range(max_tries):\n",
    "            # 1. Tạo một nước đi ngẫu nhiên duy nhất\n",
    "            temp_board = board.copy()\n",
    "            rand_col = random.randint(0, n - 1)\n",
    "            rand_row = random.randint(0, n - 1)\n",
    "            temp_board[rand_col] = rand_row\n",
    "\n",
    "            # 2. Kiểm tra nước đi đó\n",
    "            if conflicts(temp_board) < current_conflicts:\n",
    "                # 3. Nếu tốt hơn, cập nhật và thoát khỏi vòng lặp for\n",
    "                board = temp_board\n",
    "                print(f\"Tìm thấy lựa chọn tốt hơn. Xung đột mới: {conflicts(board)}\")\n",
    "                found_better_move = True\n",
    "                break\n",
    "\n",
    "        # Nếu vòng lặp for chạy hết mà không tìm được gì, thì dừng thuật toán\n",
    "        if not found_better_move:\n",
    "            print(f\"Đã đạt tối ưu cục bộ sau {max_tries} lần thử. Dừng lại.\")\n",
    "            return board"
   ],
   "outputs": [],
   "execution_count": 19
  },
  {
   "metadata": {
    "ExecuteTime": {
     "end_time": "2025-10-08T19:19:20.675776Z",
     "start_time": "2025-10-08T19:19:20.498878Z"
    }
   },
   "cell_type": "code",
   "source": [
    "start_board_fc = random_board(8)\n",
    "print(\"Bàn cờ ban đầu cho First-Choice HC:\")\n",
    "show_board(start_board_fc)\n",
    "\n",
    "final_board_fc = first_choice_hill_climbing(start_board_fc)\n",
    "\n",
    "print(\"\\nBàn cờ cuối cùng:\")\n",
    "show_board(final_board_fc)"
   ],
   "outputs": [
    {
     "name": "stdout",
     "output_type": "stream",
     "text": [
      "Bàn cờ ban đầu cho First-Choice HC:\n",
      "Board with 7 conflicts.\n"
     ]
    },
    {
     "data": {
      "text/plain": [
       "<Figure size 640x480 with 1 Axes>"
      ],
      "image/png": "[encoded data removed]"
     },
     "metadata": {},
     "output_type": "display_data",
     "jetTransient": {
      "display_id": null
     }
    },
    {
     "name": "stdout",
     "output_type": "stream",
     "text": [
      "Tìm thấy lựa chọn tốt hơn. Xung đột mới: 5\n",
      "Tìm thấy lựa chọn tốt hơn. Xung đột mới: 3\n",
      "Tìm thấy lựa chọn tốt hơn. Xung đột mới: 2\n",
      "Đã đạt tối ưu cục bộ sau 100 lần thử. Dừng lại.\n",
      "\n",
      "Bàn cờ cuối cùng:\n",
      "Board with 2 conflicts.\n"
     ]
    },
    {
     "data": {
      "text/plain": [
       "<Figure size 640x480 with 1 Axes>"
      ],
      "image/png": "[encoded data removed]"
     },
     "metadata": {},
     "output_type": "display_data",
     "jetTransient": {
      "display_id": null
     }
    }
   ],
   "execution_count": 20
  },
  {
   "cell_type": "markdown",
   "metadata": {},
   "source": [
    "## Task 4: Hill Climbing Search with Random Restarts [10 Points]\n",
    "\n",
    "Hill climbing will often end up in local optima. Restart the each of the three hill climbing algorithm up to 100 times with a random board to find a better (hopefully optimal) solution. Note that restart just means to run the algorithm several times starting with a new random board."
   ]
  },
  {
   "cell_type": "code",
   "execution_count": 7,
   "metadata": {},
   "outputs": [],
   "source": [
    "# Code and description go here"
   ]
  },
  {
   "cell_type": "markdown",
   "metadata": {},
   "source": [
    "## Task 5: Simulated Annealing [10 Points]\n",
    "\n",
    "Simulated annealing is a form of stochastic hill climbing that avoid local optima by also allowing downhill moves with a probability proportional to a temperature. The temperature is decreased in every iteration following an annealing schedule. You have to experiment with the annealing schedule (Google to find guidance on this).\n",
    "\n",
    "\n",
    "1. Implement simulated annealing for the n-Queens problem.\n",
    "2. Create a visualization of the search process (a line chart of how the number if conflict changes as the algorithm progrsses).\n",
    "3. Use this visualization for experiments with different choices for the annealing schedule and discuss what you have learned."
   ]
  },
  {
   "cell_type": "code",
   "execution_count": null,
   "metadata": {},
   "outputs": [],
   "source": [
    "# Code and description go here"
   ]
  },
  {
   "cell_type": "markdown",
   "metadata": {},
   "source": [
    "## Task 6: Algorithm Behavior Analysis [20 Points]\n",
    "\n",
    "### Comparison\n",
    "Compare the algorithm using runtime and objective function values. Use boards of size 4 and 8 to explore how the different algorithms perform. Make sure that you run the algorithms for each board size several times (at least 100 times) with different starting boards and report averages.\n",
    "\n",
    "Complete the following table\n",
    "\n",
    "| Algorithm           | Board size | Avg. Run time | Avg. number of conflicts | % of runs ending in optimal solution  |\n",
    "| ------------------- | ---------- | ------------- | --------------------------------- | - |\n",
    "| Steepest asc. HC    |     4      |               |                                   |   |\n",
    "| Stochastic HC 1     |     4      |               |                                   |   |\n",
    "| Stochastic HC 2     |     4      |               |                                   |   |\n",
    "| Simulated Annealing |     4      |               |                                   |   |\n",
    "| Steepest asc. HC    |     8      |               |                                   |   |\n",
    "| Stochastic HC 1     |     8      |               |                                   |   |\n",
    "| Stochastic HC 2     |     8      |               |                                   |   |\n",
    "| Simulated Annealing |     8      |               |                                   |   |\n",
    "\n",
    "Hint: See [Profiling Python Code](../HOWTOs/profiling_code.ipynb) for help about how to measure runtime in Python.\n",
    "\n",
    "Add the used code here:"
   ]
  },
  {
   "cell_type": "code",
   "execution_count": null,
   "metadata": {},
   "outputs": [],
   "source": [
    "# Code"
   ]
  },
  {
   "cell_type": "markdown",
   "metadata": {},
   "source": [
    "### Algorithm Convergence\n",
    "\n",
    "For each algorithm implemented, describe the typical convergence pattern (fast initial improvement vs. steady progress).\n",
    "Include a plot showing the objective function value over iterations for one representative run of each algorithm on the 8-queens problem.\n",
    "Explain which algorithms exhibit plateaus or getting stuck in local optima most frequently."
   ]
  },
  {
   "cell_type": "code",
   "execution_count": null,
   "metadata": {},
   "outputs": [],
   "source": [
    "# Code and description go here"
   ]
  },
  {
   "cell_type": "markdown",
   "metadata": {},
   "source": [
    "### Problem Size Scalability\n",
    "\n",
    "Create a log-log plot showing how runtime scales with board size ($n=4, 8, 12, 16, 20$) for at least two algorithms.\n",
    "Estimate the empirical time complexity (Big O) for each algorithm based on your results.\n",
    "Identify which algorithm scales best for large problem sizes and explain why."
   ]
  },
  {
   "cell_type": "code",
   "execution_count": null,
   "metadata": {},
   "outputs": [],
   "source": [
    "# Code and description go here"
   ]
  },
  {
   "cell_type": "markdown",
   "metadata": {},
   "source": [
    "## Advanced task: Exploring other Local Moves Operators\n",
    "\n",
    "* __Graduate students__ need to complete this task [10 points]\n",
    "* __Undergraduate students__ can attempt this as a bonus task [max +5 bonus points].\n",
    "\n",
    "### Move Operator Implementation \n",
    "\n",
    "Implement the following local move operators:\n",
    "\n",
    "* Single-step move: Move one queen only one square up or down at a time\n",
    "* Column swap: Exchange the positions of queens in two randomly selected columns\n",
    "* Dual-queen move: Select two queens and move both simultaneously\n",
    "* Adaptive move: Design your own operator that adapts which local move it uses based on the current state (e.g., focuses on queens with most conflicts or randomly chooses one of the moves above)\n",
    "\n",
    "### Experimental Analysis\n",
    "\n",
    "Using the 8-Queens and 12-Queens problems: Run your Stochastic Hill Climbing 2 implementation with each move operator 100 times\n",
    "For each operator, create a visualization showing:\n",
    "\n",
    "* Average solution quality over iterations\n",
    "* Distribution of final solution qualities\n",
    "* Average time to solution for successful runs\n",
    "\n",
    "### Discussion\n",
    "\n",
    "Describe what you have learned from the experiments. Which operator works best for which situation and why?"
   ]
  },
  {
   "cell_type": "code",
   "execution_count": 9,
   "metadata": {
    "tags": []
   },
   "outputs": [],
   "source": [
    "# Code and description go here"
   ]
  },
  {
   "cell_type": "markdown",
   "metadata": {},
   "source": [
    "## More Things to Do (not for credit)\n",
    "\n",
    "If the assignment was to easy for yuo then you can think about the following problems. These problems are challenging and not part of this assignment. \n",
    "\n",
    "### Implement a Genetic Algorithm for the n-Queens problem"
   ]
  },
  {
   "cell_type": "code",
   "execution_count": 10,
   "metadata": {
    "tags": []
   },
   "outputs": [],
   "source": [
    "# Code and description go here"
   ]
  }
 ],
 "metadata": {
  "kernelspec": {
   "display_name": ".venv",
   "language": "python",
   "name": "python3"
  },
  "language_info": {
   "codemirror_mode": {
    "name": "ipython",
    "version": 3
   },
   "file_extension": ".py",
   "mimetype": "text/x-python",
   "name": "python",
   "nbconvert_exporter": "python",
   "pygments_lexer": "ipython3",
   "version": "3.12.3"
  },
  "toc-autonumbering": false,
  "toc-showcode": false,
  "toc-showmarkdowntxt": false,
  "toc-showtags": false
 },
 "nbformat": 4,
 "nbformat_minor": 4
}
