{
 "cells": [
  {
   "cell_type": "markdown",
   "metadata": {},
   "source": [
    "# Solving the Traveling Salesman  Problem using Local Search\n",
    "\n",
    "Points: 10"
   ]
  },
  {
   "cell_type": "markdown",
   "metadata": {},
   "source": [
    "## The [Traveling Salesman Problem](https://en.wikipedia.org/wiki/Travelling_salesman_problem)\n",
    "\n",
    "* __Goal:__ Find the shortest tour visiting each of $n$ cities exactly once and returning back to the starting city. Given are pairwise distances between cities, where $d_{i,j}$ is the distance from city $i$ to city $j$. \n",
    "\n",
    "* __State space:__ Each state represents a tour. The cities are numbered and a tour can be expressed as vector  $\\pi$ with the order in which the cities are visited (a [permutation](https://en.wikipedia.org/wiki/Permutation)). That is, $\\pi(1)$ is the index of the first city to visit, $\\pi(2)$ the index of the second, and so on.\n",
    "\n",
    "* __Objective function:__ Minimize the tour length. The optimization problem is to find the optimal tour $\\pi^*$ through the $n$ cities and returning to the starting city:\n",
    "\n",
    "  > minimize: $\\mathrm{tourlength}(\\pi) = d_{\\pi(n),\\pi(1)} + \\sum_{i = 1}^{n-1} d_{\\pi(i),\\pi(i+1)}$\n",
    "  > \n",
    "  > subject to: $\\pi \\ \\text{is a valid permutation vector}$\n",
    "\n",
    "* __Local moves:__ Exchange two cities in the order."
   ]
  },
  {
   "cell_type": "markdown",
   "metadata": {},
   "source": [
    "## Helper functions"
   ]
  },
  {
   "cell_type": "code",
   "execution_count": 20,
   "metadata": {},
   "outputs": [],
   "source": [
    "import numpy as np\n",
    "import pandas as pd\n",
    "import matplotlib.pyplot as plt\n",
    "import math\n",
    "import random\n",
    "\n",
    "np.set_printoptions(precision=2)\n",
    "pd.set_option('precision', 2)\n",
    "\n",
    "# make the results repeatable\n",
    "np.random.seed(1234)"
   ]
  },
  {
   "cell_type": "code",
   "execution_count": 21,
   "metadata": {},
   "outputs": [
    {
     "data": {
      "text/plain": [
       "[1, 8, 0, 5, 7, 4, 6, 3, 2, 9]"
      ]
     },
     "execution_count": 21,
     "metadata": {},
     "output_type": "execute_result"
    }
   ],
   "source": [
    "def random_tour(n):\n",
    "    \"\"\"Create a random tour\"\"\"\n",
    "    \n",
    "    tour = list(range(n))\n",
    "    random.shuffle(tour)\n",
    "    return(tour)\n",
    "\n",
    "random_tour(10)"
   ]
  },
  {
   "cell_type": "code",
   "execution_count": 22,
   "metadata": {
    "scrolled": true
   },
   "outputs": [
    {
     "name": "stdout",
     "output_type": "stream",
     "text": [
      "Positions:\n",
      "      x     y\n",
      "0  0.19  0.36\n",
      "1  0.62  0.50\n",
      "2  0.44  0.68\n",
      "3  0.79  0.71\n",
      "4  0.78  0.37\n",
      "5  0.27  0.56\n",
      "6  0.28  0.50\n",
      "7  0.80  0.01\n",
      "8  0.96  0.77\n",
      "9  0.88  0.88\n",
      "Distance matrix:\n",
      "      0     1     2     3     4     5     6     7     8     9\n",
      "0  0.00  0.45  0.41  0.69  0.59  0.22  0.17  0.70  0.87  0.86\n",
      "1  0.45  0.00  0.26  0.27  0.20  0.35  0.35  0.52  0.43  0.46\n",
      "2  0.41  0.26  0.00  0.35  0.46  0.21  0.24  0.76  0.53  0.48\n",
      "3  0.69  0.27  0.35  0.00  0.34  0.53  0.55  0.70  0.18  0.19\n",
      "4  0.59  0.20  0.46  0.34  0.00  0.54  0.52  0.36  0.44  0.52\n",
      "5  0.22  0.35  0.21  0.53  0.54  0.00  0.06  0.76  0.72  0.68\n",
      "6  0.17  0.35  0.24  0.55  0.52  0.06  0.00  0.72  0.73  0.71\n",
      "7  0.70  0.52  0.76  0.70  0.36  0.76  0.72  0.00  0.77  0.87\n",
      "8  0.87  0.43  0.53  0.18  0.44  0.72  0.73  0.77  0.00  0.14\n",
      "9  0.86  0.46  0.48  0.19  0.52  0.68  0.71  0.87  0.14  0.00)\n"
     ]
    }
   ],
   "source": [
    "from scipy.spatial.distance import pdist\n",
    "from scipy.spatial.distance import squareform\n",
    "\n",
    "def random_tsp(n):\n",
    "    \"\"\"\n",
    "    Create a random (Euclidean) traveling salesman problem. Choose n points randomly in a 1 x 1 unit square and calulates a \n",
    "    pairwise Euclidean distance matrix.\n",
    "    \"\"\"\n",
    "    \n",
    "    pos = pd.DataFrame({\n",
    "        \"x\" : np.random.uniform(size = n),\n",
    "        \"y\" : np.random.uniform(size = n)\n",
    "    })\n",
    "    \n",
    "    dist = squareform(pdist(pos))\n",
    "    \n",
    "    return({\"pos\": pos, \"dist\": dist})\n",
    "    \n",
    "tsp = random_tsp(10)\n",
    "\n",
    "print(f\"Positions:\\n{tsp['pos']}\")\n",
    "print(f\"Distance matrix:\\n{pd.DataFrame(tsp['dist'])})\")"
   ]
  },
  {
   "cell_type": "code",
   "execution_count": 23,
   "metadata": {},
   "outputs": [
    {
     "data": {
      "text/plain": [
       "4.799039732446266"
      ]
     },
     "execution_count": 23,
     "metadata": {},
     "output_type": "execute_result"
    }
   ],
   "source": [
    "def tour_length(tsp, tour):\n",
    "    \"\"\"Caclulate the length of a tour, i.e., the objective function.\"\"\"\n",
    "    \n",
    "    # make sure tour is a Python list (not an array or a numpy.array)\n",
    "    if not isinstance(tour, list): tour = tour.tolist()\n",
    "    \n",
    "    tl = 0\n",
    "    dist = tsp[\"dist\"]\n",
    "    \n",
    "    for i in range(len(tour)-1):\n",
    "        tl += dist[tour[i], tour[i+1]]\n",
    "    \n",
    "    tl += dist[tour[-1], tour[0]]\n",
    "    \n",
    "    return(tl)\n",
    "        \n",
    "tour = random_tour(10)\n",
    "tour_length(tsp, tour)"
   ]
  },
  {
   "cell_type": "code",
   "execution_count": 24,
   "metadata": {
    "scrolled": true
   },
   "outputs": [
    {
     "name": "stdout",
     "output_type": "stream",
     "text": [
      "Tour length: 4.8\n"
     ]
    },
    {
     "data": {
      "image/png": "[encoded data removed]",
      "text/plain": [
       "<Figure size 432x288 with 1 Axes>"
      ]
     },
     "metadata": {
      "needs_background": "light"
     },
     "output_type": "display_data"
    }
   ],
   "source": [
    "def show_tsp(tsp, tour = None):  \n",
    "    \"\"\"display the traveling salesman problem and a tour.\"\"\"\n",
    "    \n",
    "    pos = tsp[\"pos\"]\n",
    "    \n",
    "    plt.scatter(pos[\"x\"], pos[\"y\"])\n",
    "    \n",
    "    if tour is not None:\n",
    "        # make sure tour is a Python list (not an array or a numpy.array)\n",
    "        if not isinstance(tour, list): tour = tour.tolist()\n",
    "        \n",
    "        print(f\"Tour length: {round(tour_length(tsp, tour), 2)}\")\n",
    "        \n",
    "        pos_ = pos.reindex(tour)\n",
    "        pos_ = pos_.append(pos_.head(1))\n",
    "        plt.plot(pos_[\"x\"], pos_[\"y\"])\n",
    "    \n",
    "    plt.show()\n",
    "    \n",
    "show_tsp(tsp, tour)"
   ]
  },
  {
   "cell_type": "markdown",
   "metadata": {},
   "source": [
    "## Use R to find a solution\n",
    "\n",
    "Load rpy2, make sure the R [TSP package](https://CRAN.R-project.org/package=TSP) is installed and prepare the distance matrix."
   ]
  },
  {
   "cell_type": "code",
   "execution_count": 25,
   "metadata": {},
   "outputs": [
    {
     "name": "stdout",
     "output_type": "stream",
     "text": [
      "The rpy2.ipython extension is already loaded. To reload it, use:\n",
      "  %reload_ext rpy2.ipython\n"
     ]
    }
   ],
   "source": [
    "%load_ext rpy2.ipython\n",
    "\n",
    "%R if(!\"TSP\" %in% rownames(installed.packages())) install.packages(\"TSP\", repos=\"http://cran.us.r-project.org\")\n",
    "%R if(!\"microbenchmark\" %in% rownames(installed.packages())) install.packages(\"microbenchmark\", repos=\"http://cran.us.r-project.org\")\n",
    "\n",
    "d = tsp[\"dist\"]"
   ]
  },
  {
   "cell_type": "markdown",
   "metadata": {},
   "source": [
    "Solve the TSP using [`solve_TSP`](https://www.rdocumentation.org/packages/TSP/versions/1.1-10/topics/solve_TSP) with the default heuristic. Note that 2-opt is steepest ascend hill climbing with exchanging two cities. `rep=100` means 100 random restarts."
   ]
  },
  {
   "cell_type": "code",
   "execution_count": 26,
   "metadata": {},
   "outputs": [
    {
     "name": "stdout",
     "output_type": "stream",
     "text": [
      "object of class ‘TSP’ \n",
      "10 cities (distance ‘unknown’) \n",
      "object of class ‘TOUR’ \n",
      "result of method ‘arbitrary_insertion+two_opt_rep_100’ for 10 cities\n",
      "tour length: 2.763574 \n"
     ]
    }
   ],
   "source": [
    "%%R -i d -o tour\n",
    "\n",
    "library(\"TSP\")\n",
    "\n",
    "tsp <- TSP(d)\n",
    "print(tsp)\n",
    "\n",
    "tour <- solve_TSP(tsp, rep = 100)\n",
    "print(tour)\n",
    "\n",
    "# R starts index with 1, but Python starts at 0\n",
    "tour <- tour - 1L"
   ]
  },
  {
   "cell_type": "code",
   "execution_count": 27,
   "metadata": {
    "scrolled": true
   },
   "outputs": [
    {
     "name": "stdout",
     "output_type": "stream",
     "text": [
      "Tour length: 2.76\n"
     ]
    },
    {
     "data": {
      "image/png": "[encoded data removed]",
      "text/plain": [
       "<Figure size 432x288 with 1 Axes>"
      ]
     },
     "metadata": {
      "needs_background": "light"
     },
     "output_type": "display_data"
    }
   ],
   "source": [
    "show_tsp(tsp, tour)"
   ]
  },
  {
   "cell_type": "markdown",
   "metadata": {},
   "source": [
    "How long does it take to solve the problem 100 times?"
   ]
  },
  {
   "cell_type": "code",
   "execution_count": 28,
   "metadata": {},
   "outputs": [
    {
     "name": "stdout",
     "output_type": "stream",
     "text": [
      "Unit: microseconds\n",
      "          expr    min      lq     mean median       uq     max neval\n",
      " tsp <- TSP(d) 287.99 302.479 324.9209 312.62 336.2445 616.048   100\n"
     ]
    }
   ],
   "source": [
    "%%R -i d\n",
    "\n",
    "library(\"microbenchmark\")\n",
    "\n",
    "microbenchmark(tsp <- TSP(d))"
   ]
  },
  {
   "cell_type": "markdown",
   "metadata": {},
   "source": [
    "## Steepest-ascend Hill Climbing Search [3 Points]\n",
    "\n",
    "Calculate the objective function for all local moves (move each queen within its column) and always choose the best among all local moves."
   ]
  },
  {
   "cell_type": "code",
   "execution_count": 29,
   "metadata": {
    "scrolled": false
   },
   "outputs": [],
   "source": [
    "# Code goes here"
   ]
  },
  {
   "cell_type": "markdown",
   "metadata": {},
   "source": [
    "## Steepest-ascend Hill Climbing Search with Random Restarts [1 Point]\n",
    "\n",
    "Steepest-ascend with random restarts."
   ]
  },
  {
   "cell_type": "code",
   "execution_count": 30,
   "metadata": {
    "scrolled": false
   },
   "outputs": [],
   "source": [
    "# Code goes here"
   ]
  },
  {
   "cell_type": "markdown",
   "metadata": {},
   "source": [
    "## Stochastic Hill Climbing [1 Points]\n",
    "\n",
    "Chooses randomly from among all uphill moves."
   ]
  },
  {
   "cell_type": "code",
   "execution_count": 31,
   "metadata": {},
   "outputs": [],
   "source": [
    "# Code goes here"
   ]
  },
  {
   "cell_type": "markdown",
   "metadata": {},
   "source": [
    "## First-choice Hill Climbing [1 Point]\n",
    "\n",
    "First-choice hill climbing is a type of stochastic hill climbing that generates one random local neighbor at a time and accept it if it has a better objective function value than the current state."
   ]
  },
  {
   "cell_type": "code",
   "execution_count": 32,
   "metadata": {},
   "outputs": [],
   "source": [
    "# Code goes here"
   ]
  },
  {
   "cell_type": "markdown",
   "metadata": {},
   "source": [
    "## Simulated Annealing [2 Points]"
   ]
  },
  {
   "cell_type": "code",
   "execution_count": 33,
   "metadata": {},
   "outputs": [],
   "source": [
    "# Code goes here"
   ]
  },
  {
   "cell_type": "markdown",
   "metadata": {},
   "source": [
    "## Compare Performance [2 Points]\n",
    "\n",
    "Use runtime, scalability (number of cities), and best objective function value to compare the algorithms on boards of different sizes.  \n",
    "\n",
    "For timing you can use the `time` package."
   ]
  },
  {
   "cell_type": "code",
   "execution_count": 34,
   "metadata": {},
   "outputs": [
    {
     "name": "stdout",
     "output_type": "stream",
     "text": [
      "Do something\n",
      "This took: 0.17380714416503906 milliseconds\n"
     ]
    }
   ],
   "source": [
    "import time\n",
    "\n",
    "t0 = time.time()\n",
    "print(\"Do something\")\n",
    "t1 = time.time()\n",
    "\n",
    "print(f\"This took: {(t1-t0) * 1e3} milliseconds\")"
   ]
  },
  {
   "cell_type": "code",
   "execution_count": 35,
   "metadata": {},
   "outputs": [],
   "source": [
    "# Code and results go here"
   ]
  },
  {
   "cell_type": "markdown",
   "metadata": {},
   "source": [
    "## Bonus: Genetic Algorithm [+1 Point]"
   ]
  },
  {
   "cell_type": "code",
   "execution_count": 36,
   "metadata": {},
   "outputs": [],
   "source": [
    "# Code goes here"
   ]
  }
 ],
 "metadata": {
  "kernelspec": {
   "display_name": "Python 3",
   "language": "python",
   "name": "python3"
  },
  "language_info": {
   "codemirror_mode": {
    "name": "ipython",
    "version": 3
   },
   "file_extension": ".py",
   "mimetype": "text/x-python",
   "name": "python",
   "nbconvert_exporter": "python",
   "pygments_lexer": "ipython3",
   "version": "3.8.5"
  }
 },
 "nbformat": 4,
 "nbformat_minor": 4
}
