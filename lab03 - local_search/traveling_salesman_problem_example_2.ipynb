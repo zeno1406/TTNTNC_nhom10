{
 "cells": [
  {
   "cell_type": "markdown",
   "metadata": {},
   "source": [
    "# Solving the Traveling Salesman  Problem using Local Search\n",
    "\n",
    "Points: 10"
   ]
  },
  {
   "cell_type": "markdown",
   "metadata": {},
   "source": [
    "## The Traveling Salesman Problem\n",
    "\n",
    "Problem definition (see [TSP on Wikipedia](https://en.wikipedia.org/wiki/Travelling_salesman_problem)):\n",
    "\n",
    "* __Goal:__ Find the shortest tour visiting each of $n$ cities exactly once and returning back to the starting city. Given are pairwise distances between cities, where $d_{i,j}$ is the distance from city $i$ to city $j$. \n",
    "\n",
    "* __State space:__ Each state represents a tour. The cities are numbered and a tour can be expressed as vector  $\\pi$ with the order in which the cities are visited (a [permutation](https://en.wikipedia.org/wiki/Permutation)). That is, $\\pi(1)$ is the index of the first city to visit, $\\pi(2)$ the index of the second, and so on.\n",
    "\n",
    "* __Objective function:__ Minimize the tour length. The optimization problem is to find the optimal tour $\\pi^*$ through the $n$ cities and returning to the starting city:\n",
    "\n",
    "  > minimize: $\\mathrm{tourlength}(\\pi) = d_{\\pi(n),\\pi(1)} + \\sum_{i = 1}^{n-1} d_{\\pi(i),\\pi(i+1)}$\n",
    "  > \n",
    "  > subject to: $\\pi \\ \\text{is a valid permutation vector}$\n",
    "\n",
    "* __Local moves:__ Exchange two cities in the order."
   ]
  },
  {
   "cell_type": "markdown",
   "metadata": {},
   "source": [
    "## Helper functions"
   ]
  },
  {
   "cell_type": "code",
   "execution_count": 2,
   "metadata": {},
   "outputs": [],
   "source": [
    "import numpy as np\n",
    "import pandas as pd\n",
    "import matplotlib.pyplot as plt\n",
    "import math\n",
    "import random\n",
    "\n",
    "np.set_printoptions(precision = 2)\n",
    "pd.set_option('precision', 2)\n",
    "\n",
    "# make the results repeatable\n",
    "np.random.seed(1234)"
   ]
  },
  {
   "cell_type": "code",
   "execution_count": 3,
   "metadata": {},
   "outputs": [
    {
     "data": {
      "text/plain": [
       "[4, 6, 2, 5, 0, 7, 9, 3, 8, 1]"
      ]
     },
     "execution_count": 3,
     "metadata": {},
     "output_type": "execute_result"
    }
   ],
   "source": [
    "def random_tour(n):\n",
    "    \"\"\"Create a random tour\"\"\"\n",
    "    \n",
    "    tour = list(range(n))\n",
    "    random.shuffle(tour)\n",
    "    return(tour)\n",
    "\n",
    "random_tour(10)"
   ]
  },
  {
   "cell_type": "code",
   "execution_count": 4,
   "metadata": {
    "scrolled": true
   },
   "outputs": [
    {
     "name": "stdout",
     "output_type": "stream",
     "text": [
      "Positions:\n",
      "      x     y\n",
      "0  0.19  0.36\n",
      "1  0.62  0.50\n",
      "2  0.44  0.68\n",
      "3  0.79  0.71\n",
      "4  0.78  0.37\n",
      "5  0.27  0.56\n",
      "6  0.28  0.50\n",
      "7  0.80  0.01\n",
      "8  0.96  0.77\n",
      "9  0.88  0.88\n",
      "Distance matrix:\n",
      "      0     1     2     3     4     5     6     7     8     9\n",
      "0  0.00  0.45  0.41  0.69  0.59  0.22  0.17  0.70  0.87  0.86\n",
      "1  0.45  0.00  0.26  0.27  0.20  0.35  0.35  0.52  0.43  0.46\n",
      "2  0.41  0.26  0.00  0.35  0.46  0.21  0.24  0.76  0.53  0.48\n",
      "3  0.69  0.27  0.35  0.00  0.34  0.53  0.55  0.70  0.18  0.19\n",
      "4  0.59  0.20  0.46  0.34  0.00  0.54  0.52  0.36  0.44  0.52\n",
      "5  0.22  0.35  0.21  0.53  0.54  0.00  0.06  0.76  0.72  0.68\n",
      "6  0.17  0.35  0.24  0.55  0.52  0.06  0.00  0.72  0.73  0.71\n",
      "7  0.70  0.52  0.76  0.70  0.36  0.76  0.72  0.00  0.77  0.87\n",
      "8  0.87  0.43  0.53  0.18  0.44  0.72  0.73  0.77  0.00  0.14\n",
      "9  0.86  0.46  0.48  0.19  0.52  0.68  0.71  0.87  0.14  0.00)\n"
     ]
    }
   ],
   "source": [
    "from scipy.spatial.distance import pdist\n",
    "from scipy.spatial.distance import squareform\n",
    "\n",
    "def random_tsp(n):\n",
    "    \"\"\"\n",
    "    Create a random (Euclidean) traveling salesman problem. Choose n points randomly in a 1 x 1 unit square and calulates a \n",
    "    pairwise Euclidean distance matrix.\n",
    "    \"\"\"\n",
    "    \n",
    "    pos = pd.DataFrame({\n",
    "        \"x\" : np.random.uniform(size = n),\n",
    "        \"y\" : np.random.uniform(size = n)\n",
    "    })\n",
    "    \n",
    "    dist = squareform(pdist(pos))\n",
    "    \n",
    "    return({\"pos\": pos, \"dist\": dist})\n",
    "    \n",
    "tsp = random_tsp(10)\n",
    "\n",
    "print(f\"Positions:\\n{tsp['pos']}\")\n",
    "print(f\"Distance matrix:\\n{pd.DataFrame(tsp['dist'])})\")"
   ]
  },
  {
   "cell_type": "code",
   "execution_count": 5,
   "metadata": {},
   "outputs": [
    {
     "data": {
      "text/plain": [
       "5.629207918602361"
      ]
     },
     "execution_count": 5,
     "metadata": {},
     "output_type": "execute_result"
    }
   ],
   "source": [
    "def tour_length(tsp, tour):\n",
    "    \"\"\"Caclulate the length of a tour, i.e., the objective function.\"\"\"\n",
    "    \n",
    "    # make sure tour is a Python list (not an array or a numpy.array)\n",
    "    if not isinstance(tour, list): tour = tour.tolist()\n",
    "    \n",
    "    tl = 0\n",
    "    dist = tsp[\"dist\"]\n",
    "    \n",
    "    for i in range(len(tour)-1):\n",
    "        tl += dist[tour[i], tour[i+1]]\n",
    "    \n",
    "    tl += dist[tour[-1], tour[0]]\n",
    "    \n",
    "    return(tl)\n",
    "        \n",
    "tour = random_tour(10)\n",
    "tour_length(tsp, tour)"
   ]
  },
  {
   "cell_type": "code",
   "execution_count": 6,
   "metadata": {
    "tags": []
   },
   "outputs": [
    {
     "name": "stdout",
     "output_type": "stream",
     "text": [
      "Tour length: 5.63\n"
     ]
    },
    {
     "data": {
      "image/png": "[encoded data removed]",
      "text/plain": [
       "<Figure size 432x288 with 1 Axes>"
      ]
     },
     "metadata": {
      "needs_background": "light"
     },
     "output_type": "display_data"
    }
   ],
   "source": [
    "def show_tsp(tsp, tour = None):  \n",
    "    \"\"\"display the traveling salesman problem and a tour.\"\"\"\n",
    "    \n",
    "    pos = tsp[\"pos\"]\n",
    "    \n",
    "    plt.scatter(pos[\"x\"], pos[\"y\"])\n",
    "    \n",
    "    if tour is not None:\n",
    "        # make sure tour is a Python list (not an array or a numpy.array)\n",
    "        if not isinstance(tour, list): tour = tour.tolist()\n",
    "        \n",
    "        print(f\"Tour length: {round(tour_length(tsp, tour), 2)}\")\n",
    "        \n",
    "        pos_ = pos.reindex(tour)\n",
    "        pos_ = pos_.append(pos_.head(1))\n",
    "        plt.plot(pos_[\"x\"], pos_[\"y\"])\n",
    "    \n",
    "    plt.show()\n",
    "    \n",
    "show_tsp(tsp, tour)"
   ]
  },
  {
   "cell_type": "markdown",
   "metadata": {},
   "source": [
    "## Use R to find a solution\n",
    "\n",
    "Load rpy2, make sure the R [TSP package](https://CRAN.R-project.org/package=TSP) is installed and prepare the distance matrix."
   ]
  },
  {
   "cell_type": "code",
   "execution_count": 7,
   "metadata": {},
   "outputs": [],
   "source": [
    "%load_ext rpy2.ipython\n",
    "\n",
    "%R if(!\"TSP\" %in% rownames(installed.packages())) install.packages(\"TSP\", repos=\"http://cran.us.r-project.org\")\n",
    "%R if(!\"microbenchmark\" %in% rownames(installed.packages())) install.packages(\"microbenchmark\", repos=\"http://cran.us.r-project.org\")\n",
    "\n",
    "d = tsp[\"dist\"]"
   ]
  },
  {
   "cell_type": "markdown",
   "metadata": {},
   "source": [
    "Solve the TSP using [`solve_TSP`](https://www.rdocumentation.org/packages/TSP/versions/1.1-10/topics/solve_TSP) with the default heuristic. Note that 2-opt is steepest ascend hill climbing with exchanging two cities. `rep = 10` means 10 random restarts."
   ]
  },
  {
   "cell_type": "code",
   "execution_count": 8,
   "metadata": {},
   "outputs": [
    {
     "name": "stdout",
     "output_type": "stream",
     "text": [
      "object of class ‘TSP’ \n",
      "10 cities (distance ‘unknown’) \n",
      "object of class ‘TOUR’ \n",
      "result of method ‘arbitrary_insertion+two_opt_rep_10’ for 10 cities\n",
      "tour length: 2.763574 \n"
     ]
    }
   ],
   "source": [
    "%%R -i d -o tour\n",
    "\n",
    "library(\"TSP\")\n",
    "\n",
    "tsp <- TSP(d)\n",
    "print(tsp)\n",
    "\n",
    "tour <- solve_TSP(tsp, rep = 10)\n",
    "print(tour)\n",
    "\n",
    "# R starts index with 1, but Python starts at 0\n",
    "tour <- tour - 1L"
   ]
  },
  {
   "cell_type": "code",
   "execution_count": 9,
   "metadata": {},
   "outputs": [
    {
     "name": "stdout",
     "output_type": "stream",
     "text": [
      "Tour length: 2.76\n"
     ]
    },
    {
     "data": {
      "image/png": "[encoded data removed]",
      "text/plain": [
       "<Figure size 432x288 with 1 Axes>"
      ]
     },
     "metadata": {
      "needs_background": "light"
     },
     "output_type": "display_data"
    }
   ],
   "source": [
    "show_tsp(tsp, tour)"
   ]
  },
  {
   "cell_type": "markdown",
   "metadata": {},
   "source": [
    "How long does it take to solve the problem?"
   ]
  },
  {
   "cell_type": "code",
   "execution_count": 10,
   "metadata": {},
   "outputs": [
    {
     "name": "stdout",
     "output_type": "stream",
     "text": [
      "Unit: milliseconds\n",
      "                   expr     min       lq     mean   median       uq      max\n",
      " solve_TSP(d, rep = 10) 7.99531 8.096485 10.63028 9.047341 12.84836 19.56482\n",
      " neval\n",
      "   100\n"
     ]
    }
   ],
   "source": [
    "%%R -i d\n",
    "\n",
    "library(\"microbenchmark\")\n",
    "d <- TSP(d)\n",
    "\n",
    "\n",
    "microbenchmark(solve_TSP(d, rep = 10))"
   ]
  },
  {
   "cell_type": "markdown",
   "metadata": {},
   "source": [
    "## Steepest-ascend Hill Climbing Search [3 Points]\n",
    "\n",
    "Calculate the objective function for all local moves (move each queen within its column) and always choose the best among all local moves."
   ]
  },
  {
   "cell_type": "code",
   "execution_count": 11,
   "metadata": {},
   "outputs": [],
   "source": [
    "# Code goes here"
   ]
  },
  {
   "cell_type": "markdown",
   "metadata": {},
   "source": [
    "## Steepest-ascend Hill Climbing Search with Random Restarts [1 Point]\n",
    "\n",
    "Steepest-ascend with random restarts."
   ]
  },
  {
   "cell_type": "code",
   "execution_count": 12,
   "metadata": {},
   "outputs": [],
   "source": [
    "# Code goes here"
   ]
  },
  {
   "cell_type": "markdown",
   "metadata": {},
   "source": [
    "## Stochastic Hill Climbing [1 Points]\n",
    "\n",
    "Chooses randomly from among all uphill moves."
   ]
  },
  {
   "cell_type": "code",
   "execution_count": 13,
   "metadata": {},
   "outputs": [],
   "source": [
    "# Code goes here"
   ]
  },
  {
   "cell_type": "markdown",
   "metadata": {},
   "source": [
    "## Stochastic Hill Climbing (First-choice) [1 Point]\n",
    "\n",
    "First-choice hill climbing is a type of stochastic hill climbing that generates one random local neighbor at a time and accept it if it has a better objective function value than the current state."
   ]
  },
  {
   "cell_type": "markdown",
   "metadata": {},
   "source": [
    "### Local Moves\n",
    "I implement the following three different local move strategies: \n",
    "* Swap two random cities. \n",
    "* Swap two neighboring cities.\n",
    "* Reverse the subtour between two cities."
   ]
  },
  {
   "cell_type": "code",
   "execution_count": 14,
   "metadata": {},
   "outputs": [
    {
     "name": "stdout",
     "output_type": "stream",
     "text": [
      "[7, 1, 2, 3, 4, 5, 6, 0, 8, 9]\n",
      "[9, 1, 2, 3, 4, 5, 6, 7, 8, 0]\n",
      "[0, 1, 3, 2, 4, 5, 6, 7, 8, 9]\n"
     ]
    }
   ],
   "source": [
    "def move_swap(tour):\n",
    "    new_tour = tour.copy()\n",
    "    \n",
    "    # np.random.randint is inclusive lower limit and exclusive upper limit\n",
    "    [a, b] = np.random.randint(0, len(tour), 2)\n",
    "    #print(f\"a={a}, b={b}\")\n",
    "    \n",
    "    new_tour[a] = tour[b]\n",
    "    new_tour[b] = tour[a]\n",
    "    return(new_tour)\n",
    "\n",
    "print(move_swap(list(range(10))))\n",
    "print(move_swap(list(range(10))))\n",
    "print(move_swap(list(range(10))))"
   ]
  },
  {
   "cell_type": "code",
   "execution_count": 15,
   "metadata": {},
   "outputs": [
    {
     "name": "stdout",
     "output_type": "stream",
     "text": [
      "[0, 1, 2, 4, 3, 5, 6, 7, 8, 9]\n",
      "[0, 2, 1, 3, 4, 5, 6, 7, 8, 9]\n",
      "[0, 1, 2, 4, 3, 5, 6, 7, 8, 9]\n"
     ]
    }
   ],
   "source": [
    "def move_swap_neighbors(tour):\n",
    "    new_tour = tour.copy()\n",
    "    \n",
    "    a = np.random.randint(0, len(tour)-1, 1)[0]\n",
    "    if a > 0: b = a+1\n",
    "    else: b = len(tour)-1  \n",
    "    #print(f\"a={a}, b={b}\")\n",
    "    \n",
    "    new_tour[a] = tour[b]\n",
    "    new_tour[b] = tour[a]\n",
    "    return(new_tour)\n",
    "\n",
    "print(move_swap_neighbors(list(range(10))))\n",
    "print(move_swap_neighbors(list(range(10))))\n",
    "print(move_swap_neighbors(list(range(10))))"
   ]
  },
  {
   "cell_type": "code",
   "execution_count": 16,
   "metadata": {},
   "outputs": [
    {
     "name": "stdout",
     "output_type": "stream",
     "text": [
      "[0, 9, 8, 7, 6, 5, 4, 3, 2, 1]\n",
      "[0, 1, 2, 6, 5, 4, 3, 7, 8, 9]\n",
      "[0, 9, 8, 7, 6, 5, 4, 3, 2, 1]\n"
     ]
    }
   ],
   "source": [
    "def move_reverse(tour):\n",
    "    new_tour = tour.copy()\n",
    "    \n",
    "    ab = np.random.randint(0, len(tour)+1, 2)\n",
    "    ab.sort()\n",
    "    #print(f\"a={ab[0]}, b={ab[1]}\")\n",
    "        \n",
    "    new_tour[ab[0]:ab[1]] = new_tour[ab[0]:ab[1]][::-1]\n",
    "    return(new_tour)\n",
    "\n",
    "print(move_reverse(list(range(10))))\n",
    "print(move_reverse(list(range(10))))\n",
    "print(move_reverse(list(range(10))))"
   ]
  },
  {
   "cell_type": "markdown",
   "metadata": {},
   "source": [
    "### Search Algorithm\n",
    "\n",
    "I don't know what the optimal tour is so I run the algorithm for at most `max_steps` steps, and stop if there is no improvement for at least `stop_after` steps."
   ]
  },
  {
   "cell_type": "code",
   "execution_count": 17,
   "metadata": {},
   "outputs": [],
   "source": [
    "def FCSHC(tsp, tour = None, local_move_method = move_swap, \n",
    "         max_steps = 1000000, stop_after = 1000, verbose = True, keep_history = False):\n",
    "    \n",
    "    n = len(tsp['pos'])\n",
    "    \n",
    "    if keep_history: history = list() \n",
    "    \n",
    "    # 1. initialize current tour\n",
    "    # current tour = initial tour (random if no tour is given)\n",
    "    if not tour is None:\n",
    "        current_tour = tour\n",
    "    else:\n",
    "        current_tour = random_tour(n)\n",
    "    \n",
    "    \n",
    "    # initial tour length\n",
    "    current_length = tour_length(tsp, current_tour)    \n",
    "    if verbose: print(f\"initial tour length: {current_length}\")\n",
    "    \n",
    "    # step when we last improved the length\n",
    "    last_improvement_step = 0\n",
    "    \n",
    "    # 2. repeat local moves\n",
    "    for step in range(max_steps):\n",
    "        \n",
    "        new_tour = local_move_method(current_tour)\n",
    "        new_length = tour_length(tsp, new_tour)  \n",
    "        \n",
    "        # check if the new tour is better   \n",
    "        if new_length < current_length: \n",
    "            current_tour = new_tour\n",
    "            current_length = new_length\n",
    "            last_improvement_step = step\n",
    "            if verbose: print(f\"step: {step} - new tour length: {current_length}\")\n",
    "    \n",
    "        if keep_history: history.append(current_length)\n",
    "    \n",
    "        # stop if we did not improve for stop_after steps\n",
    "        if step - last_improvement_step > stop_after: \n",
    "            if verbose: print(f\"step: {step} - no improvement for {stop_after} steps.\")\n",
    "            break\n",
    "    \n",
    "    \n",
    "    if keep_history: return(current_tour, history)\n",
    "    return(current_tour)"
   ]
  },
  {
   "cell_type": "markdown",
   "metadata": {},
   "source": [
    "### Comparison of Local Move Strategies Using a Single Problem"
   ]
  },
  {
   "cell_type": "code",
   "execution_count": 18,
   "metadata": {},
   "outputs": [
    {
     "name": "stdout",
     "output_type": "stream",
     "text": [
      "Tour length: 5.7\n"
     ]
    },
    {
     "data": {
      "image/png": "[encoded data removed]",
      "text/plain": [
       "<Figure size 432x288 with 1 Axes>"
      ]
     },
     "metadata": {
      "needs_background": "light"
     },
     "output_type": "display_data"
    }
   ],
   "source": [
    "initial_tour = random_tour(len(tsp['pos']))\n",
    "show_tsp(tsp, initial_tour)"
   ]
  },
  {
   "cell_type": "code",
   "execution_count": 19,
   "metadata": {},
   "outputs": [
    {
     "name": "stdout",
     "output_type": "stream",
     "text": [
      "initial tour length: 5.700632953232227\n",
      "step: 0 - new tour length: 5.203695501219807\n",
      "step: 2 - new tour length: 4.236200825575449\n",
      "step: 6 - new tour length: 3.8329097885735353\n",
      "step: 11 - new tour length: 3.6126414736105072\n",
      "step: 12 - new tour length: 3.4473341532649924\n",
      "step: 13 - new tour length: 3.3599137254290525\n",
      "step: 20 - new tour length: 3.153223959037089\n",
      "step: 26 - new tour length: 3.047219924886294\n",
      "step: 39 - new tour length: 2.9525230410605117\n",
      "step: 112 - new tour length: 2.9062078251965873\n",
      "step: 1113 - no improvement for 1000 steps.\n",
      "CPU times: user 61.5 ms, sys: 8.93 ms, total: 70.4 ms\n",
      "Wall time: 57.6 ms\n",
      "Tour length: 2.91\n"
     ]
    },
    {
     "data": {
      "image/png": "[encoded data removed]",
      "text/plain": [
       "<Figure size 432x288 with 1 Axes>"
      ]
     },
     "metadata": {
      "needs_background": "light"
     },
     "output_type": "display_data"
    },
    {
     "data": {
      "image/png": "[encoded data removed]",
      "text/plain": [
       "<Figure size 432x288 with 1 Axes>"
      ]
     },
     "metadata": {
      "needs_background": "light"
     },
     "output_type": "display_data"
    }
   ],
   "source": [
    "%time tour, history_swap = FCSHC(tsp, initial_tour, local_move_method = move_swap, keep_history = True)\n",
    "show_tsp(tsp, tour)\n",
    "\n",
    "plt.plot(range(len(history_swap)), history_swap)\n",
    "plt.xlabel(\"Step\")\n",
    "plt.ylabel(\"Path length\")\n",
    "plt.ylim(bottom = 0)\n",
    "plt.show()"
   ]
  },
  {
   "cell_type": "code",
   "execution_count": 20,
   "metadata": {},
   "outputs": [
    {
     "name": "stdout",
     "output_type": "stream",
     "text": [
      "initial tour length: 5.700632953232227\n",
      "step: 1 - new tour length: 5.382293548102927\n",
      "step: 10 - new tour length: 4.849330216848048\n",
      "step: 11 - new tour length: 4.289357382893998\n",
      "step: 12 - new tour length: 4.218441776207307\n",
      "step: 1013 - no improvement for 1000 steps.\n",
      "CPU times: user 56.4 ms, sys: 9.39 ms, total: 65.8 ms\n",
      "Wall time: 53.4 ms\n",
      "Tour length: 4.22\n"
     ]
    },
    {
     "data": {
      "image/png": "[encoded data removed]",
      "text/plain": [
       "<Figure size 432x288 with 1 Axes>"
      ]
     },
     "metadata": {
      "needs_background": "light"
     },
     "output_type": "display_data"
    },
    {
     "data": {
      "image/png": "[encoded data removed]",
      "text/plain": [
       "<Figure size 432x288 with 1 Axes>"
      ]
     },
     "metadata": {
      "needs_background": "light"
     },
     "output_type": "display_data"
    }
   ],
   "source": [
    "%time tour, history_swap_neighbors = FCSHC(tsp, initial_tour, local_move_method = move_swap_neighbors, keep_history = True)\n",
    "show_tsp(tsp, tour)\n",
    "\n",
    "plt.plot(range(len(history_swap_neighbors)), history_swap_neighbors)\n",
    "plt.xlabel(\"Step\")\n",
    "plt.ylabel(\"Path length\")\n",
    "plt.ylim(bottom = 0)\n",
    "plt.show()"
   ]
  },
  {
   "cell_type": "code",
   "execution_count": 21,
   "metadata": {},
   "outputs": [
    {
     "name": "stdout",
     "output_type": "stream",
     "text": [
      "initial tour length: 5.700632953232227\n",
      "step: 1 - new tour length: 5.515419269149118\n",
      "step: 3 - new tour length: 5.497565020001184\n",
      "step: 5 - new tour length: 5.110778804148519\n",
      "step: 10 - new tour length: 4.856162321689546\n",
      "step: 12 - new tour length: 4.296189487735497\n",
      "step: 16 - new tour length: 3.7632261564806164\n",
      "step: 24 - new tour length: 3.528456460172212\n",
      "step: 35 - new tour length: 3.5215705748430226\n",
      "step: 40 - new tour length: 3.521570574843022\n",
      "step: 47 - new tour length: 3.080087487389965\n",
      "step: 48 - new tour length: 3.0001192492049693\n",
      "step: 55 - new tour length: 2.822090126858674\n",
      "step: 96 - new tour length: 2.7635735777577013\n",
      "step: 1097 - no improvement for 1000 steps.\n",
      "CPU times: user 52.3 ms, sys: 0 ns, total: 52.3 ms\n",
      "Wall time: 49.5 ms\n",
      "Tour length: 2.76\n"
     ]
    },
    {
     "data": {
      "image/png": "[encoded data removed]",
      "text/plain": [
       "<Figure size 432x288 with 1 Axes>"
      ]
     },
     "metadata": {
      "needs_background": "light"
     },
     "output_type": "display_data"
    },
    {
     "data": {
      "image/png": "[encoded data removed]",
      "text/plain": [
       "<Figure size 432x288 with 1 Axes>"
      ]
     },
     "metadata": {
      "needs_background": "light"
     },
     "output_type": "display_data"
    }
   ],
   "source": [
    "%time tour, history_reverse = FCSHC(tsp, initial_tour, local_move_method = move_reverse, keep_history = True)\n",
    "show_tsp(tsp, tour)\n",
    "\n",
    "plt.plot(range(len(history_reverse)), history_reverse)\n",
    "plt.xlabel(\"Step\")\n",
    "plt.ylabel(\"Path length\")\n",
    "plt.ylim(bottom = 0)\n",
    "plt.show()"
   ]
  },
  {
   "cell_type": "markdown",
   "metadata": {},
   "source": [
    "All three learning curves"
   ]
  },
  {
   "cell_type": "code",
   "execution_count": 22,
   "metadata": {},
   "outputs": [
    {
     "data": {
      "image/png": "[encoded data removed]",
      "text/plain": [
       "<Figure size 432x288 with 1 Axes>"
      ]
     },
     "metadata": {
      "needs_background": "light"
     },
     "output_type": "display_data"
    }
   ],
   "source": [
    "plt.plot(range(len(history_swap)), history_swap, label = \"swap\")\n",
    "plt.plot(range(len(history_swap_neighbors)), history_swap_neighbors, label = \"swap_neighbors\")\n",
    "plt.plot(range(len(history_reverse)), history_reverse, label = \"reverse\")\n",
    "plt.xlabel(\"Step\")\n",
    "plt.ylabel(\"Path length\")\n",
    "plt.ylim(bottom = 0)\n",
    "plt.legend()\n",
    "plt.show()"
   ]
  },
  {
   "cell_type": "markdown",
   "metadata": {},
   "source": [
    "### Comparison of Local Move Strategies\n",
    "\n",
    "We compare the local move strategies using 100 random problems."
   ]
  },
  {
   "cell_type": "code",
   "execution_count": 23,
   "metadata": {},
   "outputs": [],
   "source": [
    "N = 100 # replications\n",
    "n = 20 # number of cities\n",
    "\n",
    "results = { \n",
    "    'swap' : np.zeros(shape = [N]),\n",
    "    'swap_neighbors' : np.zeros(shape = [N]),\n",
    "    'reverse' : np.zeros(shape = [N]) \n",
    "}\n",
    "\n",
    "for i in range(N):\n",
    "    tsp_test = random_tsp(n)\n",
    "    initial_tour = random_tour(n)\n",
    "    \n",
    "    results['swap'][i] = tour_length(tsp_test, \n",
    "        FCSHC(tsp_test, initial_tour, local_move_method = move_swap, verbose = False))\n",
    "    \n",
    "    results['swap_neighbors'][i] = tour_length(tsp_test, \n",
    "        FCSHC(tsp_test, initial_tour, local_move_method = move_swap_neighbors, verbose = False))\n",
    "    \n",
    "    results['reverse'][i] = tour_length(tsp_test, \n",
    "        FCSHC(tsp_test, initial_tour, local_move_method = move_reverse, verbose = False))"
   ]
  },
  {
   "cell_type": "code",
   "execution_count": 24,
   "metadata": {},
   "outputs": [
    {
     "name": "stdout",
     "output_type": "stream",
     "text": [
      "    swap  swap_neighbors  reverse\n",
      "0   4.10            7.17     3.58\n",
      "1   3.30            6.59     3.65\n",
      "2   4.54            6.66     3.75\n",
      "3   4.43            8.49     4.11\n",
      "4   4.13            7.09     3.66\n",
      "..   ...             ...      ...\n",
      "95  4.86            7.22     4.67\n",
      "96  5.08            9.18     4.43\n",
      "97  4.37            7.72     4.15\n",
      "98  4.93            8.90     3.66\n",
      "99  4.14            7.87     3.95\n",
      "\n",
      "[100 rows x 3 columns]\n",
      "swap              4.56\n",
      "swap_neighbors    8.00\n",
      "reverse           3.92\n",
      "dtype: float64\n"
     ]
    },
    {
     "data": {
      "image/png": "[encoded data removed]",
      "text/plain": [
       "<Figure size 432x288 with 1 Axes>"
      ]
     },
     "metadata": {
      "needs_background": "light"
     },
     "output_type": "display_data"
    }
   ],
   "source": [
    "# compare averages\n",
    "import pandas as pd\n",
    "import matplotlib.pyplot as plt\n",
    "\n",
    "results = pd.DataFrame(results)\n",
    "print(results)\n",
    "\n",
    "means = np.mean(results, axis = 0)\n",
    "print(means)\n",
    "\n",
    "plt.bar(means.keys(), means)\n",
    "plt.ylabel(\"mean tour length\")\n",
    "plt.show()\n"
   ]
  },
  {
   "cell_type": "code",
   "execution_count": 25,
   "metadata": {},
   "outputs": [
    {
     "data": {
      "image/png": "[encoded data removed]",
      "text/plain": [
       "<Figure size 432x288 with 1 Axes>"
      ]
     },
     "metadata": {
      "needs_background": "light"
     },
     "output_type": "display_data"
    }
   ],
   "source": [
    "# histogram\n",
    "\n",
    "plt.hist(results['swap'], bins = 20, alpha = .5)\n",
    "plt.hist(results['swap_neighbors'], bins = 20, alpha = .5)\n",
    "plt.hist(results['reverse'], bins = 20, alpha = .5)\n",
    "plt.xlabel(\"tour length\")\n",
    "plt.ylabel(\"frequency\")\n",
    "plt.legend(labels = [\"swap\", \"swap_neighbors\", \"reverse\"])\n",
    "plt.show()"
   ]
  },
  {
   "cell_type": "code",
   "execution_count": 26,
   "metadata": {},
   "outputs": [
    {
     "data": {
      "text/plain": [
       "<AxesSubplot:>"
      ]
     },
     "execution_count": 26,
     "metadata": {},
     "output_type": "execute_result"
    },
    {
     "data": {
      "image/png": "[encoded data removed]",
      "text/plain": [
       "<Figure size 432x288 with 1 Axes>"
      ]
     },
     "metadata": {
      "needs_background": "light"
     },
     "output_type": "display_data"
    }
   ],
   "source": [
    "# boxplot (from pandas.DataFrame)\n",
    "\n",
    "results.boxplot()"
   ]
  },
  {
   "cell_type": "code",
   "execution_count": 27,
   "metadata": {},
   "outputs": [
    {
     "data": {
      "text/plain": [
       "Ttest_relResult(statistic=12.807612401763953, pvalue=9.914781933804352e-23)"
      ]
     },
     "execution_count": 27,
     "metadata": {},
     "output_type": "execute_result"
    }
   ],
   "source": [
    "# is reverse better than swap?\n",
    "# perform a paired t-test\n",
    "\n",
    "from scipy import stats\n",
    "\n",
    "stats.ttest_rel(results['swap'], results['reverse'])"
   ]
  },
  {
   "cell_type": "markdown",
   "metadata": {},
   "source": [
    "## Simulated Annealing [2 Points]\n",
    "\n",
    "Simulated annealing is a form of stochastic hill climbing that also allows downhill moves with a probability proportional to the temperature. This is done to avoid local optima. The temperature is decreased in every iteration following an annealing schedule.\n",
    "\n",
    "Finding a good cooling schedule for the problem is the most challenging part of simulated annealing. Some guidance can be found [here](http://what-when-how.com/artificial-intelligence/a-comparison-of-cooling-schedules-for-simulated-annealing-artificial-intelligence/).\n",
    "\n",
    "The initial temperature $T_0$ should be chosen such that initially any move, no matter how bad, has a high probability of being performed. For $P = exp(-\\Delta E/T_0)$ we get a probability of $exp(-1) = 0.37$ if $T_0$ is equal to the worst $\\Delta E$. This is typically enough.\n",
    "\n",
    "For the schedule, $T_t = T_0 \\alpha^t$ is popular with $\\alpha$ less but close to 1 and $t$ being the time step. Note that this is equivalent to multiplying the current temperature with $\\alpha$ at every step."
   ]
  },
  {
   "cell_type": "code",
   "execution_count": 32,
   "metadata": {},
   "outputs": [],
   "source": [
    "def schedule(t, T0, alpha):\n",
    "    return(T0 * alpha ** t)"
   ]
  },
  {
   "cell_type": "code",
   "execution_count": 35,
   "metadata": {},
   "outputs": [
    {
     "data": {
      "image/png": "[encoded data removed]",
      "text/plain": [
       "<Figure size 432x288 with 1 Axes>"
      ]
     },
     "metadata": {
      "needs_background": "light"
     },
     "output_type": "display_data"
    }
   ],
   "source": [
    "ts = range(0,10000)\n",
    "plt.plot(ts, [schedule(t, 100, 0.999) for t in ts])\n",
    "plt.xlabel(\"Step t\")\n",
    "plt.ylabel(\"Temperature\")\n",
    "plt.ylim(bottom = 0)\n",
    "plt.show()"
   ]
  },
  {
   "cell_type": "code",
   "execution_count": 37,
   "metadata": {},
   "outputs": [],
   "source": [
    "def SA(tsp, tour = None, local_move_method = move_reverse, \n",
    "         T0 = None, alpha = 0.999, epsilon = 1e-3, verbose = True, keep_history = False):\n",
    "    \n",
    "    n = len(tsp['pos'])\n",
    "    \n",
    "    if keep_history: history = list() \n",
    "    \n",
    "    # 1. initialize current tour\n",
    "    # current tour = initial tour (random if no tour is given)\n",
    "    if not tour is None:\n",
    "        current_tour = tour\n",
    "    else:\n",
    "        current_tour = random_tour(n)\n",
    "    \n",
    "    # initial tour length\n",
    "    current_length = tour_length(tsp, current_tour)    \n",
    "    if verbose: print(f\"initial tour length: {current_length:3.3}\")\n",
    "    \n",
    "    # use the worst case length. We use the maximal distance for each row of the distance matrix. \n",
    "    # This may not be a valid tour, but it is an upper limit for deltaE.\n",
    "    if T0 is None:\n",
    "        T0 = np.sum(np.amax(tsp[\"dist\"], axis = 0))\n",
    "    \n",
    "    # 2. repeat local moves till temperature is low enough\n",
    "    T = T0\n",
    "    t = 0\n",
    "    while T > epsilon:\n",
    "        \n",
    "        # calculate temperature from schedule\n",
    "        T = schedule(t, T0, alpha)\n",
    "        \n",
    "        # create random move\n",
    "        new_tour = local_move_method(current_tour)\n",
    "        new_length = tour_length(tsp, new_tour)\n",
    "        \n",
    "        deltaE = new_length - current_length\n",
    "        \n",
    "        # check if the new tour is better   \n",
    "        if deltaE < 0 or np.random.rand() < math.exp(-deltaE/T): \n",
    "            current_tour = new_tour\n",
    "            current_length = new_length\n",
    "            if verbose: print(f\"step: {t} \\t temp: {T:5.3f} \\t deltaE: {deltaE:+3.3f} \\t new tour length: {current_length:3.3f}\")\n",
    "      \n",
    "        if keep_history: history.append(current_length)\n",
    "    \n",
    "        t += 1\n",
    "    \n",
    "    if keep_history: return(current_tour, history)\n",
    "    return(current_tour)"
   ]
  },
  {
   "cell_type": "code",
   "execution_count": 42,
   "metadata": {},
   "outputs": [
    {
     "name": "stdout",
     "output_type": "stream",
     "text": [
      "CPU times: user 3.77 s, sys: 65.3 ms, total: 3.84 s\n",
      "Wall time: 3.74 s\n",
      "Tour length: 2.76\n"
     ]
    },
    {
     "data": {
      "image/png": "[encoded data removed]",
      "text/plain": [
       "<Figure size 432x288 with 1 Axes>"
      ]
     },
     "metadata": {
      "needs_background": "light"
     },
     "output_type": "display_data"
    },
    {
     "data": {
      "image/png": "[encoded data removed]",
      "text/plain": [
       "<Figure size 432x288 with 1 Axes>"
      ]
     },
     "metadata": {
      "needs_background": "light"
     },
     "output_type": "display_data"
    }
   ],
   "source": [
    "%time tour, history = SA(tsp, local_move_method = move_swap, alpha = 0.9999, verbose = False, keep_history = True)\n",
    "show_tsp(tsp, tour)\n",
    "\n",
    "plt.plot(range(len(history)), history)\n",
    "plt.xlabel(\"Step\")\n",
    "plt.ylabel(\"Path length\")\n",
    "plt.ylim(bottom = 0)\n",
    "plt.show()"
   ]
  },
  {
   "cell_type": "markdown",
   "metadata": {},
   "source": [
    "## Compare Performance [2 Points]\n",
    "\n",
    "Use runtime, scalability (number of cities), and best objective function value to compare the algorithms on boards of different sizes.  \n",
    "\n",
    "For timing you can use the `time` package."
   ]
  },
  {
   "cell_type": "code",
   "execution_count": 31,
   "metadata": {},
   "outputs": [
    {
     "name": "stdout",
     "output_type": "stream",
     "text": [
      "Do something\n",
      "This took: 0.1957416534423828 milliseconds\n"
     ]
    }
   ],
   "source": [
    "import time\n",
    "\n",
    "t0 = time.time()\n",
    "print(\"Do something\")\n",
    "t1 = time.time()\n",
    "\n",
    "print(f\"This took: {(t1-t0) * 1e3} milliseconds\")"
   ]
  },
  {
   "cell_type": "code",
   "execution_count": 32,
   "metadata": {},
   "outputs": [],
   "source": [
    "# Code and results go here"
   ]
  },
  {
   "cell_type": "markdown",
   "metadata": {},
   "source": [
    "## Bonus: Genetic Algorithm [+1 Point]"
   ]
  },
  {
   "cell_type": "code",
   "execution_count": 33,
   "metadata": {},
   "outputs": [],
   "source": [
    "# Code goes here"
   ]
  }
 ],
 "metadata": {
  "kernelspec": {
   "display_name": "Python 3 (ipykernel)",
   "language": "python",
   "name": "python3"
  },
  "language_info": {
   "codemirror_mode": {
    "name": "ipython",
    "version": 3
   },
   "file_extension": ".py",
   "mimetype": "text/x-python",
   "name": "python",
   "nbconvert_exporter": "python",
   "pygments_lexer": "ipython3",
   "version": "3.9.5"
  }
 },
 "nbformat": 4,
 "nbformat_minor": 4
}
