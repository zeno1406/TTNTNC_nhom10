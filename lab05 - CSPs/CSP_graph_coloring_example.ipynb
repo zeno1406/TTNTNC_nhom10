{
 "cells": [
  {
   "cell_type": "markdown",
   "metadata": {},
   "source": [
    "# Constraint Satisfaction Problem : Graph coloring\n",
    "\n",
    "\n",
    "## Create Data\n",
    "\n",
    "We can create a planar graph with $n$ vertices by randomly placing $n$ points in 2-dimensional Euclidean space and then performing a [Delaunay triangulation](https://en.wikipedia.org/wiki/Delaunay_triangulation)."
   ]
  },
  {
   "cell_type": "code",
   "execution_count": 1,
   "metadata": {},
   "outputs": [
    {
     "data": {
      "image/png": "[encoded data removed]",
      "text/plain": [
       "<Figure size 432x288 with 1 Axes>"
      ]
     },
     "metadata": {
      "needs_background": "light"
     },
     "output_type": "display_data"
    }
   ],
   "source": [
    "import numpy as np\n",
    "import matplotlib.pyplot as plt\n",
    "from scipy.spatial import Delaunay\n",
    "\n",
    "np.random.seed(1111)\n",
    "\n",
    "# create points and sort them by \n",
    "n = 10\n",
    "points = np.random.randint(100, size=(n, 2))\n",
    "o = np.argsort(points[:,0])\n",
    "points = points[o,:]\n",
    "\n",
    "\n",
    "# triangulate\n",
    "tri = Delaunay(points)\n",
    "\n",
    "\n",
    "# plot\n",
    "plt.triplot(points[:,0], points[:,1], tri.simplices, color = \"gray\")\n",
    "plt.plot(points[:,0], points[:,1], 'o', color = \"green\", markersize = 20)\n",
    "\n",
    "for i in range(len(points)):\n",
    "       plt.annotate(i, points[i,:], \n",
    "        color='white', fontsize=\"large\", weight='heavy',\n",
    "        horizontalalignment='center', verticalalignment='center')\n",
    "\n",
    "plt.show()"
   ]
  },
  {
   "cell_type": "markdown",
   "metadata": {},
   "source": [
    "The triangulation can be converted into a list with an array of neighbor vertex indices for each point (see man page for [scipy.spatial.Delaunay](https://docs.scipy.org/doc/scipy/reference/generated/scipy.spatial.Delaunay.html)). "
   ]
  },
  {
   "cell_type": "code",
   "execution_count": 2,
   "metadata": {
    "scrolled": true
   },
   "outputs": [
    {
     "data": {
      "text/plain": [
       "[array([1, 2, 4, 5], dtype=int32),\n",
       " array([0, 5, 7], dtype=int32),\n",
       " array([0, 3, 4, 9], dtype=int32),\n",
       " array([2, 4, 9], dtype=int32),\n",
       " array([0, 2, 3, 5, 6, 8, 9], dtype=int32),\n",
       " array([0, 1, 4, 6, 7], dtype=int32),\n",
       " array([4, 5, 7, 8], dtype=int32),\n",
       " array([1, 5, 6, 8], dtype=int32),\n",
       " array([4, 6, 7, 9], dtype=int32),\n",
       " array([2, 3, 4, 8], dtype=int32)]"
      ]
     },
     "execution_count": 2,
     "metadata": {},
     "output_type": "execute_result"
    }
   ],
   "source": [
    "(indptr, indices) = tri.vertex_neighbor_vertices\n",
    "\n",
    "neighbors = []\n",
    "\n",
    "for k in range(len(indptr)-1):\n",
    "    neighbors.append(np.sort(indices[indptr[k]:indptr[k+1]]))\n",
    "    \n",
    "neighbors"
   ]
  },
  {
   "cell_type": "markdown",
   "metadata": {},
   "source": [
    "The first row are the indices for the points neighboring point 0."
   ]
  },
  {
   "cell_type": "markdown",
   "metadata": {},
   "source": [
    "## Define CSP\n",
    "\n",
    "The problem is defined as a dictionary with variable names, a dictionary with domain values for each variable and a set of binary  not-equal constraints (tuples of variables that are not allowed to have the same value).  "
   ]
  },
  {
   "cell_type": "code",
   "execution_count": 3,
   "metadata": {
    "scrolled": true
   },
   "outputs": [
    {
     "data": {
      "text/plain": [
       "{'variables': ['0', '1', '2', '3', '4', '5', '6', '7', '8', '9'],\n",
       " 'domains': {'0': ['red', 'blue', 'green', 'orange'],\n",
       "  '1': ['red', 'blue', 'green', 'orange'],\n",
       "  '2': ['red', 'blue', 'green', 'orange'],\n",
       "  '3': ['red', 'blue', 'green', 'orange'],\n",
       "  '4': ['red', 'blue', 'green', 'orange'],\n",
       "  '5': ['red', 'blue', 'green', 'orange'],\n",
       "  '6': ['red', 'blue', 'green', 'orange'],\n",
       "  '7': ['red', 'blue', 'green', 'orange'],\n",
       "  '8': ['red', 'blue', 'green', 'orange'],\n",
       "  '9': ['red', 'blue', 'green', 'orange']},\n",
       " 'constraints': dict_keys([('0', '1'), ('0', '2'), ('0', '4'), ('0', '5'), ('1', '5'), ('1', '7'), ('2', '3'), ('2', '4'), ('2', '9'), ('3', '4'), ('3', '9'), ('4', '5'), ('4', '6'), ('4', '8'), ('4', '9'), ('5', '6'), ('5', '7'), ('6', '7'), ('6', '8'), ('7', '8'), ('8', '9')])}"
      ]
     },
     "execution_count": 3,
     "metadata": {},
     "output_type": "execute_result"
    }
   ],
   "source": [
    "variables = [str(var) for var in range(n)]\n",
    "\n",
    "domain = ['red', 'blue', 'green', 'orange']\n",
    "#domain = ['red', 'blue', 'green']\n",
    "domains = {}\n",
    "for v in variables: \n",
    "    domains[v] = domain\n",
    "\n",
    "# create binary constraints\n",
    "constraints = {}\n",
    "for i in range(len(neighbors)):\n",
    "    for j in neighbors[i]:\n",
    "        if(i<j): constraints[tuple([str(i), str(j)])] = True\n",
    "constraints = constraints.keys()\n",
    "\n",
    "csp = {'variables': variables, 'domains': domains, 'constraints': constraints, }\n",
    "csp"
   ]
  },
  {
   "cell_type": "markdown",
   "metadata": {},
   "source": [
    "## Check Completeness and Consistency\n",
    "\n",
    "`assignment` is a dictionary. Assigned variables have an entry with the variable name as the key. `{}` is therefore the empty assignment."
   ]
  },
  {
   "cell_type": "code",
   "execution_count": 4,
   "metadata": {},
   "outputs": [
    {
     "name": "stdout",
     "output_type": "stream",
     "text": [
      "complete({}, csp) = False\n",
      "complete({...complete list...}, csp) = True\n"
     ]
    }
   ],
   "source": [
    "def complete(assignment, csp):\n",
    "    return(all([v in assignment.keys() for v in csp['variables']])) \n",
    "\n",
    "print(\"complete({}, csp) =\", complete({}, csp))\n",
    "\n",
    "print(\"complete({...complete list...}, csp) =\", \n",
    "      complete({'0': 'red', '1': 'red', '2': 'red', '3': 'red', '4': 'red', \n",
    "          '5': 'red', '6': 'red', '7': 'red', '8': 'red', '9': 'red'}, csp))"
   ]
  },
  {
   "cell_type": "code",
   "execution_count": 5,
   "metadata": {},
   "outputs": [
    {
     "name": "stdout",
     "output_type": "stream",
     "text": [
      "consistent({}, csp) = True\n",
      "consistent({'0': 'red', '1': 'red', '2': 'blue'}, csp) = False\n"
     ]
    }
   ],
   "source": [
    "def consistent(assignment, csp):\n",
    "    for constr in csp['constraints']:\n",
    "        if(constr[0] in assignment.keys() and constr[1] in assignment.keys()):\n",
    "            if assignment[constr[0]] == assignment[constr[1]]: return(False)\n",
    "        \n",
    "    return(True)\n",
    "        \n",
    "print(\"consistent({}, csp) =\", consistent({}, csp))\n",
    "print(\"consistent({'0': 'red', '1': 'red', '2': 'blue'}, csp) =\", \n",
    "      consistent({'0': 'red', '1': 'red', '2': 'blue'}, csp))"
   ]
  },
  {
   "cell_type": "markdown",
   "metadata": {},
   "source": [
    "## Implement Simple Backtracking Search"
   ]
  },
  {
   "cell_type": "code",
   "execution_count": 6,
   "metadata": {},
   "outputs": [
    {
     "name": "stdout",
     "output_type": "stream",
     "text": [
      "select_unassigned_var({'0': 'red', '1': 'blue'}, csp) = 2\n"
     ]
    }
   ],
   "source": [
    "# TODO: implement variable ordering. Choose variable with the minimum-remaining-values (MRV)\n",
    "def select_unassigned_var(assignment, csp):\n",
    "    if(complete(assignment, csp)): return(None)\n",
    "    \n",
    "    return(csp['variables'][np.where([not v in assignment.keys() for v in csp['variables']])[0][0]])\n",
    "\n",
    "print(\"select_unassigned_var({'0': 'red', '1': 'blue'}, csp) =\", \n",
    "     select_unassigned_var({'0': 'red', '1': 'blue'}, csp))"
   ]
  },
  {
   "cell_type": "code",
   "execution_count": 7,
   "metadata": {},
   "outputs": [],
   "source": [
    "# I use a global variable to turn on verbose mode in the recursion\n",
    "#VERBOSE = True\n",
    "VERBOSE = False\n",
    "COUNT = 0\n",
    "\n",
    "# returns None for failure\n",
    "def backtrack_search(csp):\n",
    "    global COUNT\n",
    "    COUNT = 0\n",
    "    \n",
    "    assignment = backtrack({}, csp)\n",
    "    \n",
    "    print(f\"Checked nodes: {COUNT}\")\n",
    "    \n",
    "    return assignment\n",
    "\n",
    "def backtrack(assignment, csp):\n",
    "    global VERBOSE, COUNT\n",
    "    \n",
    "    COUNT += 1\n",
    "    \n",
    "    if complete(assignment, csp): \n",
    "        return assignment\n",
    "    \n",
    "    var = select_unassigned_var(assignment, csp)\n",
    "    \n",
    "    # TODO: implement value ordering. Use the least-constraining-vaue heuristic. \n",
    "    # for val in order_domain(assignment, var, csp)\n",
    "    for val in csp['domains'][var]:\n",
    "        assignment[var] = val\n",
    "        \n",
    "        if VERBOSE: print(f\"Checking: {assignment}\")\n",
    "        \n",
    "        if consistent(assignment, csp):\n",
    "            \n",
    "            #TODO: add inference for early failing (forward checking, )\n",
    "            # if inference_fails(assignment, csp): return(None)\n",
    "            result = backtrack(assignment, csp)\n",
    "            if not result is None:\n",
    "                    return(result)\n",
    "                \n",
    "        del assignment[var]\n",
    "        \n",
    "    if verbose: print(f\"Backtracking\")\n",
    "    return(None) "
   ]
  },
  {
   "cell_type": "markdown",
   "metadata": {},
   "source": [
    "## Run Backtracking Search on the Random Problem"
   ]
  },
  {
   "cell_type": "code",
   "execution_count": 19,
   "metadata": {},
   "outputs": [
    {
     "name": "stdout",
     "output_type": "stream",
     "text": [
      "Checked nodes: 11\n"
     ]
    },
    {
     "data": {
      "text/plain": [
       "{'0': 'red',\n",
       " '1': 'blue',\n",
       " '2': 'blue',\n",
       " '3': 'red',\n",
       " '4': 'green',\n",
       " '5': 'orange',\n",
       " '6': 'red',\n",
       " '7': 'green',\n",
       " '8': 'blue',\n",
       " '9': 'orange'}"
      ]
     },
     "metadata": {},
     "output_type": "display_data"
    },
    {
     "name": "stdout",
     "output_type": "stream",
     "text": [
      "9.27 ms ± 0 ns per loop (mean ± std. dev. of 1 run, 1 loop each)\n"
     ]
    }
   ],
   "source": [
    "%timeit -n1 -r1 display(backtrack_search(csp))"
   ]
  },
  {
   "cell_type": "markdown",
   "metadata": {},
   "source": [
    "Plot the resulting coloring"
   ]
  },
  {
   "cell_type": "code",
   "execution_count": 9,
   "metadata": {},
   "outputs": [
    {
     "data": {
      "image/png": "[encoded data removed]",
      "text/plain": [
       "<Figure size 432x288 with 1 Axes>"
      ]
     },
     "metadata": {
      "needs_background": "light"
     },
     "output_type": "display_data"
    }
   ],
   "source": [
    "plt.triplot(points[:,0], points[:,1], tri.simplices, color = \"gray\")\n",
    "\n",
    "for i in range(len(points)):\n",
    "        plt.plot(points[i:,0], points[i:,1], 'o', color = list(res.values())[i], markersize = 20)\n",
    "        plt.annotate(i, points[i,:], \n",
    "        color='white', fontsize=\"large\", weight='heavy',\n",
    "        horizontalalignment='center', verticalalignment='center')\n",
    "\n",
    "plt.show()"
   ]
  },
  {
   "cell_type": "markdown",
   "metadata": {},
   "source": [
    "## Assignment\n",
    "\n",
    "Implement the following graph coloring algorithms:\n",
    "\n",
    "* Add variable and value ordering to the implementation.\n",
    "* Add forward checking to the implementation.\n",
    "* Implement hill climbing local search with the min-conflicts heuristic.\n",
    "\n",
    "Try to color graphs of several sizes with 3 and 4 colors. For each $n$, generate several random instances, and try to make n as large as you can manage. On average, how many constraints (edges) do your map coloring instances have for each $n$? Report the performance of each search algorithm as a function of $n$. For both variants of backtracking search, you can characterize performance in terms of the number of variable assignments attempted. For hill climbing search, report the number of uphill moves and random restarts required in order to reach a solution. Of course, you can also report raw running times as a function of $n$."
   ]
  }
 ],
 "metadata": {
  "kernelspec": {
   "display_name": "Python 3 (ipykernel)",
   "language": "python",
   "name": "python3"
  },
  "language_info": {
   "codemirror_mode": {
    "name": "ipython",
    "version": 3
   },
   "file_extension": ".py",
   "mimetype": "text/x-python",
   "name": "python",
   "nbconvert_exporter": "python",
   "pygments_lexer": "ipython3",
   "version": "3.9.5"
  }
 },
 "nbformat": 4,
 "nbformat_minor": 4
}
